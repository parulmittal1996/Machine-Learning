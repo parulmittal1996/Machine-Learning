{
 "cells": [
  {
   "cell_type": "code",
   "execution_count": 2,
   "metadata": {},
   "outputs": [],
   "source": [
    "import pandas as pd\n",
    "data = pd.read_excel(\"kiosk.xlsx\", sheetname = 1)"
   ]
  },
  {
   "cell_type": "code",
   "execution_count": 3,
   "metadata": {},
   "outputs": [
    {
     "data": {
      "text/html": [
       "<div>\n",
       "<style scoped>\n",
       "    .dataframe tbody tr th:only-of-type {\n",
       "        vertical-align: middle;\n",
       "    }\n",
       "\n",
       "    .dataframe tbody tr th {\n",
       "        vertical-align: top;\n",
       "    }\n",
       "\n",
       "    .dataframe thead th {\n",
       "        text-align: right;\n",
       "    }\n",
       "</style>\n",
       "<table border=\"1\" class=\"dataframe\">\n",
       "  <thead>\n",
       "    <tr style=\"text-align: right;\">\n",
       "      <th></th>\n",
       "      <th>KO ID</th>\n",
       "      <th>CSP Locatio</th>\n",
       "      <th>Terminal ID</th>\n",
       "      <th>Transaction Date &amp; Time</th>\n",
       "      <th>Reference Number</th>\n",
       "      <th>Type of Transaction</th>\n",
       "      <th>From Account</th>\n",
       "      <th>To Account</th>\n",
       "      <th>Amount</th>\n",
       "      <th>Customer Charge</th>\n",
       "    </tr>\n",
       "  </thead>\n",
       "  <tbody>\n",
       "    <tr>\n",
       "      <th>0</th>\n",
       "      <td>DYTXINVGDXXWQUZFKFNWUBK572414037E</td>\n",
       "      <td>SANJOO</td>\n",
       "      <td>20052802.0</td>\n",
       "      <td>28-08-2019 04:57:59 PM</td>\n",
       "      <td>1710764877362961</td>\n",
       "      <td>AEPS ONUS Withdrawal</td>\n",
       "      <td>XXXXXXQMAQA</td>\n",
       "      <td>XXXXXXMFETF</td>\n",
       "      <td>2000</td>\n",
       "      <td>0.0</td>\n",
       "    </tr>\n",
       "    <tr>\n",
       "      <th>1</th>\n",
       "      <td>VHONSNSYIIPJYCPGUKKGBKY795411271J</td>\n",
       "      <td>SHAUKAT MARKET</td>\n",
       "      <td>14017601.0</td>\n",
       "      <td>26-08-2019 10:57:46 AM</td>\n",
       "      <td>1516378236346888</td>\n",
       "      <td>AEPS OFFUS Withdrawal</td>\n",
       "      <td>XXXXXXCCOMP</td>\n",
       "      <td>XXXXXXMFETF</td>\n",
       "      <td>2500</td>\n",
       "      <td>0.0</td>\n",
       "    </tr>\n",
       "    <tr>\n",
       "      <th>2</th>\n",
       "      <td>FELSPGIAJBRGZTYJDDYNUGS938563554Y</td>\n",
       "      <td>BHOJPUR</td>\n",
       "      <td>21093301.0</td>\n",
       "      <td>27-08-2019 05:39:11 PM</td>\n",
       "      <td>1714283137325664</td>\n",
       "      <td>AEPS ONUS Withdrawal</td>\n",
       "      <td>XXXXXXPTMTC</td>\n",
       "      <td>XXXXXXMFETF</td>\n",
       "      <td>2530</td>\n",
       "      <td>0.0</td>\n",
       "    </tr>\n",
       "    <tr>\n",
       "      <th>3</th>\n",
       "      <td>SITVATJDWOLFBTKKYTIROCR859330456M</td>\n",
       "      <td>KONI</td>\n",
       "      <td>19771701.0</td>\n",
       "      <td>28-08-2019 03:58:21 PM</td>\n",
       "      <td>1707413971387797</td>\n",
       "      <td>AEPS ONUS Withdrawal</td>\n",
       "      <td>XXXXXXAFMMF</td>\n",
       "      <td>XXXXXXMFETF</td>\n",
       "      <td>8000</td>\n",
       "      <td>0.0</td>\n",
       "    </tr>\n",
       "    <tr>\n",
       "      <th>4</th>\n",
       "      <td>XDRYZQNKPMGKGRSQMUWGUIH454602787D</td>\n",
       "      <td>VIKASH KUMAR</td>\n",
       "      <td>12834401.0</td>\n",
       "      <td>26-08-2019 03:04:29 PM</td>\n",
       "      <td>1618475279799802</td>\n",
       "      <td>ATM FUNDSTRANSFER</td>\n",
       "      <td>XXXXXXCPGTA</td>\n",
       "      <td>XXXXXXCTCGO</td>\n",
       "      <td>20000</td>\n",
       "      <td>0.0</td>\n",
       "    </tr>\n",
       "  </tbody>\n",
       "</table>\n",
       "</div>"
      ],
      "text/plain": [
       "                               KO ID     CSP Locatio  Terminal ID  \\\n",
       "0  DYTXINVGDXXWQUZFKFNWUBK572414037E          SANJOO   20052802.0   \n",
       "1  VHONSNSYIIPJYCPGUKKGBKY795411271J  SHAUKAT MARKET   14017601.0   \n",
       "2  FELSPGIAJBRGZTYJDDYNUGS938563554Y         BHOJPUR   21093301.0   \n",
       "3  SITVATJDWOLFBTKKYTIROCR859330456M            KONI   19771701.0   \n",
       "4  XDRYZQNKPMGKGRSQMUWGUIH454602787D    VIKASH KUMAR   12834401.0   \n",
       "\n",
       "  Transaction Date & Time  Reference Number    Type of Transaction  \\\n",
       "0  28-08-2019 04:57:59 PM  1710764877362961   AEPS ONUS Withdrawal   \n",
       "1  26-08-2019 10:57:46 AM  1516378236346888  AEPS OFFUS Withdrawal   \n",
       "2  27-08-2019 05:39:11 PM  1714283137325664   AEPS ONUS Withdrawal   \n",
       "3  28-08-2019 03:58:21 PM  1707413971387797   AEPS ONUS Withdrawal   \n",
       "4  26-08-2019 03:04:29 PM  1618475279799802      ATM FUNDSTRANSFER   \n",
       "\n",
       "  From Account   To Account  Amount  Customer Charge  \n",
       "0  XXXXXXQMAQA  XXXXXXMFETF    2000              0.0  \n",
       "1  XXXXXXCCOMP  XXXXXXMFETF    2500              0.0  \n",
       "2  XXXXXXPTMTC  XXXXXXMFETF    2530              0.0  \n",
       "3  XXXXXXAFMMF  XXXXXXMFETF    8000              0.0  \n",
       "4  XXXXXXCPGTA  XXXXXXCTCGO   20000              0.0  "
      ]
     },
     "execution_count": 3,
     "metadata": {},
     "output_type": "execute_result"
    }
   ],
   "source": [
    "data.head()"
   ]
  },
  {
   "cell_type": "code",
   "execution_count": 4,
   "metadata": {},
   "outputs": [],
   "source": [
    "data[\"Transaction Date & Time\"] = pd.to_datetime(data[\"Transaction Date & Time\"], infer_datetime_format=True)\n"
   ]
  },
  {
   "cell_type": "code",
   "execution_count": 5,
   "metadata": {},
   "outputs": [],
   "source": [
    "from datetime import datetime\n",
    "d = datetime.now()\n",
    "date, time = d.date(), d.time()\n",
    "x=data[\"date\"] = [d.date() for d in data[\"Transaction Date & Time\"]]\n",
    "z=data[\"time\"] = [d.time() for d in data[\"Transaction Date & Time\"]]"
   ]
  },
  {
   "cell_type": "code",
   "execution_count": null,
   "metadata": {},
   "outputs": [],
   "source": [
    "x"
   ]
  }
 ],
 "metadata": {
  "kernelspec": {
   "display_name": "Python 3",
   "language": "python",
   "name": "python3"
  },
  "language_info": {
   "codemirror_mode": {
    "name": "ipython",
    "version": 3
   },
   "file_extension": ".py",
   "mimetype": "text/x-python",
   "name": "python",
   "nbconvert_exporter": "python",
   "pygments_lexer": "ipython3",
   "version": "3.7.3"
  }
 },
 "nbformat": 4,
 "nbformat_minor": 2
}
