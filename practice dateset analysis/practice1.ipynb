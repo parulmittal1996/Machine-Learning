{
 "cells": [
  {
   "cell_type": "code",
   "execution_count": 17,
   "metadata": {},
   "outputs": [
    {
     "data": {
      "text/html": [
       "<div>\n",
       "<style scoped>\n",
       "    .dataframe tbody tr th:only-of-type {\n",
       "        vertical-align: middle;\n",
       "    }\n",
       "\n",
       "    .dataframe tbody tr th {\n",
       "        vertical-align: top;\n",
       "    }\n",
       "\n",
       "    .dataframe thead th {\n",
       "        text-align: right;\n",
       "    }\n",
       "</style>\n",
       "<table border=\"1\" class=\"dataframe\">\n",
       "  <thead>\n",
       "    <tr style=\"text-align: right;\">\n",
       "      <th></th>\n",
       "      <th>0</th>\n",
       "      <th>1</th>\n",
       "    </tr>\n",
       "  </thead>\n",
       "  <tbody>\n",
       "    <tr>\n",
       "      <th>0</th>\n",
       "      <td>3</td>\n",
       "      <td>3276.0</td>\n",
       "    </tr>\n",
       "    <tr>\n",
       "      <th>1</th>\n",
       "      <td>4</td>\n",
       "      <td>21840.0</td>\n",
       "    </tr>\n",
       "    <tr>\n",
       "      <th>2</th>\n",
       "      <td>5</td>\n",
       "      <td>97650.0</td>\n",
       "    </tr>\n",
       "    <tr>\n",
       "      <th>3</th>\n",
       "      <td>6</td>\n",
       "      <td>335916.0</td>\n",
       "    </tr>\n",
       "    <tr>\n",
       "      <th>4</th>\n",
       "      <td>7</td>\n",
       "      <td>960792.0</td>\n",
       "    </tr>\n",
       "  </tbody>\n",
       "</table>\n",
       "</div>"
      ],
      "text/plain": [
       "   0         1\n",
       "0  3    3276.0\n",
       "1  4   21840.0\n",
       "2  5   97650.0\n",
       "3  6  335916.0\n",
       "4  7  960792.0"
      ]
     },
     "execution_count": 17,
     "metadata": {},
     "output_type": "execute_result"
    }
   ],
   "source": [
    "import pandas as pd\n",
    "import numpy as np\n",
    "import matplotlib.pyplot as plt\n",
    "data = pd.read_csv(\"Practice1.csv\", header = None)\n",
    "data.head()"
   ]
  },
  {
   "cell_type": "code",
   "execution_count": 18,
   "metadata": {},
   "outputs": [
    {
     "data": {
      "text/plain": [
       "(34, 2)"
      ]
     },
     "execution_count": 18,
     "metadata": {},
     "output_type": "execute_result"
    }
   ],
   "source": [
    "data.shape"
   ]
  },
  {
   "cell_type": "code",
   "execution_count": 19,
   "metadata": {},
   "outputs": [],
   "source": [
    "x = data.iloc[:,:-1]\n",
    "y = data.iloc[:,-1]"
   ]
  },
  {
   "cell_type": "code",
   "execution_count": 20,
   "metadata": {},
   "outputs": [
    {
     "data": {
      "text/plain": [
       "[<matplotlib.lines.Line2D at 0x1771b030f28>]"
      ]
     },
     "execution_count": 20,
     "metadata": {},
     "output_type": "execute_result"
    },
    {
     "data": {
      "image/png": "[encoded data removed]",
      "text/plain": [
       "<Figure size 432x288 with 1 Axes>"
      ]
     },
     "metadata": {
      "needs_background": "light"
     },
     "output_type": "display_data"
    }
   ],
   "source": [
    "plt.plot(x,y)"
   ]
  },
  {
   "cell_type": "markdown",
   "metadata": {},
   "source": [
    "# LR SPLIT"
   ]
  },
  {
   "cell_type": "code",
   "execution_count": 21,
   "metadata": {},
   "outputs": [
    {
     "name": "stdout",
     "output_type": "stream",
     "text": [
      "(27, 1)\n",
      "(7, 1)\n",
      "(27,)\n",
      "(7,)\n"
     ]
    }
   ],
   "source": [
    "from sklearn.model_selection import train_test_split\n",
    "x_train,x_test,y_train, y_test = train_test_split(x, y, test_size = .20, random_state = 0)\n",
    "print(x_train.shape)\n",
    "print(x_test.shape)\n",
    "print(y_train.shape)\n",
    "print(y_test.shape)"
   ]
  },
  {
   "cell_type": "code",
   "execution_count": 22,
   "metadata": {},
   "outputs": [],
   "source": [
    "from sklearn.linear_model import LinearRegression\n"
   ]
  },
  {
   "cell_type": "code",
   "execution_count": 23,
   "metadata": {},
   "outputs": [],
   "source": [
    "model = LinearRegression()\n"
   ]
  },
  {
   "cell_type": "code",
   "execution_count": 24,
   "metadata": {},
   "outputs": [
    {
     "data": {
      "text/plain": [
       "LinearRegression(copy_X=True, fit_intercept=True, n_jobs=None, normalize=False)"
      ]
     },
     "execution_count": 24,
     "metadata": {},
     "output_type": "execute_result"
    }
   ],
   "source": [
    "model.fit(x_train,y_train)"
   ]
  },
  {
   "cell_type": "code",
   "execution_count": 25,
   "metadata": {},
   "outputs": [
    {
     "data": {
      "text/plain": [
       "array([-2.92372402e+10,  1.97380967e+11,  3.29574921e+11,  1.02956714e+11,\n",
       "       -1.99200896e+11,  3.67344623e+11,  5.18423427e+11])"
      ]
     },
     "execution_count": 25,
     "metadata": {},
     "output_type": "execute_result"
    }
   ],
   "source": [
    "y_pred = model.predict(x_test)\n",
    "y_pred"
   ]
  },
  {
   "cell_type": "code",
   "execution_count": 26,
   "metadata": {},
   "outputs": [],
   "source": [
    "from sklearn.metrics import mean_squared_error, r2_score"
   ]
  },
  {
   "cell_type": "code",
   "execution_count": 27,
   "metadata": {},
   "outputs": [
    {
     "name": "stdout",
     "output_type": "stream",
     "text": [
      "The model performance of training set:\n",
      "RMSE is: 212603868230.3964\n",
      "r2_score: -4.177311460141884\n"
     ]
    }
   ],
   "source": [
    "rmse = np.sqrt(mean_squared_error(y_test, y_pred))\n",
    "r2score = r2_score(y_test, y_pred)\n",
    "print(\"The model performance of training set:\")\n",
    "print(\"RMSE is:\", rmse)\n",
    "print(\"r2_score:\", r2score)"
   ]
  },
  {
   "cell_type": "code",
   "execution_count": 28,
   "metadata": {},
   "outputs": [
    {
     "data": {
      "text/plain": [
       "[<matplotlib.lines.Line2D at 0x1771b0980f0>]"
      ]
     },
     "execution_count": 28,
     "metadata": {},
     "output_type": "execute_result"
    },
    {
     "data": {
      "image/png": "[encoded data removed]",
      "text/plain": [
       "<Figure size 432x288 with 1 Axes>"
      ]
     },
     "metadata": {
      "needs_background": "light"
     },
     "output_type": "display_data"
    }
   ],
   "source": [
    "plt.plot(x_test, y_pred)"
   ]
  },
  {
   "cell_type": "markdown",
   "metadata": {},
   "source": [
    "# LR WITHOUT SPLIT"
   ]
  },
  {
   "cell_type": "code",
   "execution_count": 29,
   "metadata": {},
   "outputs": [
    {
     "data": {
      "text/plain": [
       "LinearRegression(copy_X=True, fit_intercept=True, n_jobs=None, normalize=False)"
      ]
     },
     "execution_count": 29,
     "metadata": {},
     "output_type": "execute_result"
    }
   ],
   "source": [
    "model.fit(x,y)"
   ]
  },
  {
   "cell_type": "code",
   "execution_count": 30,
   "metadata": {},
   "outputs": [],
   "source": [
    "pred = model.predict(x)"
   ]
  },
  {
   "cell_type": "code",
   "execution_count": 31,
   "metadata": {},
   "outputs": [
    {
     "data": {
      "text/plain": [
       "array([-2.14364762e+11, -1.97960467e+11, -1.81556172e+11, -1.65151877e+11,\n",
       "       -1.48747582e+11, -1.32343287e+11, -1.15938992e+11, -9.95346971e+10,\n",
       "       -8.31304021e+10, -6.67261072e+10, -5.03218122e+10, -3.39175172e+10,\n",
       "       -1.75132222e+10, -1.10892724e+09,  1.52953677e+10,  4.81039577e+10,\n",
       "        6.45082527e+10,  8.09125477e+10,  1.13721138e+11,  1.46529728e+11,\n",
       "        1.62934023e+11,  1.62934023e+11,  2.12146908e+11,  2.44955497e+11,\n",
       "        2.61359792e+11,  2.77764087e+11,  3.10572677e+11,  3.26976972e+11,\n",
       "        3.59785562e+11,  3.76189857e+11,  4.08998447e+11,  4.41807037e+11,\n",
       "        4.74615627e+11,  6.87871462e+11])"
      ]
     },
     "execution_count": 31,
     "metadata": {},
     "output_type": "execute_result"
    }
   ],
   "source": [
    "pred"
   ]
  },
  {
   "cell_type": "code",
   "execution_count": 32,
   "metadata": {},
   "outputs": [
    {
     "name": "stdout",
     "output_type": "stream",
     "text": [
      "The model performance of training set:\n",
      "RMSE is: 309171377200.19025\n",
      "r2_score: 0.345303547413895\n"
     ]
    }
   ],
   "source": [
    "rmse = np.sqrt(mean_squared_error(y, pred))\n",
    "r2score = r2_score(y, pred)\n",
    "print(\"The model performance of training set:\")\n",
    "print(\"RMSE is:\", rmse)\n",
    "print(\"r2_score:\", r2score)"
   ]
  },
  {
   "cell_type": "code",
   "execution_count": 33,
   "metadata": {},
   "outputs": [],
   "source": [
    "df = pd.DataFrame({'actual':y, 'prediction':pred})"
   ]
  },
  {
   "cell_type": "code",
   "execution_count": 34,
   "metadata": {},
   "outputs": [
    {
     "data": {
      "text/html": [
       "<div>\n",
       "<style scoped>\n",
       "    .dataframe tbody tr th:only-of-type {\n",
       "        vertical-align: middle;\n",
       "    }\n",
       "\n",
       "    .dataframe tbody tr th {\n",
       "        vertical-align: top;\n",
       "    }\n",
       "\n",
       "    .dataframe thead th {\n",
       "        text-align: right;\n",
       "    }\n",
       "</style>\n",
       "<table border=\"1\" class=\"dataframe\">\n",
       "  <thead>\n",
       "    <tr style=\"text-align: right;\">\n",
       "      <th></th>\n",
       "      <th>actual</th>\n",
       "      <th>prediction</th>\n",
       "    </tr>\n",
       "  </thead>\n",
       "  <tbody>\n",
       "    <tr>\n",
       "      <th>0</th>\n",
       "      <td>3.276000e+03</td>\n",
       "      <td>-2.143648e+11</td>\n",
       "    </tr>\n",
       "    <tr>\n",
       "      <th>1</th>\n",
       "      <td>2.184000e+04</td>\n",
       "      <td>-1.979605e+11</td>\n",
       "    </tr>\n",
       "    <tr>\n",
       "      <th>2</th>\n",
       "      <td>9.765000e+04</td>\n",
       "      <td>-1.815562e+11</td>\n",
       "    </tr>\n",
       "    <tr>\n",
       "      <th>3</th>\n",
       "      <td>3.359160e+05</td>\n",
       "      <td>-1.651519e+11</td>\n",
       "    </tr>\n",
       "    <tr>\n",
       "      <th>4</th>\n",
       "      <td>9.607920e+05</td>\n",
       "      <td>-1.487476e+11</td>\n",
       "    </tr>\n",
       "    <tr>\n",
       "      <th>5</th>\n",
       "      <td>2.396736e+06</td>\n",
       "      <td>-1.323433e+11</td>\n",
       "    </tr>\n",
       "    <tr>\n",
       "      <th>6</th>\n",
       "      <td>5.380830e+06</td>\n",
       "      <td>-1.159390e+11</td>\n",
       "    </tr>\n",
       "    <tr>\n",
       "      <th>7</th>\n",
       "      <td>1.111110e+07</td>\n",
       "      <td>-9.953470e+10</td>\n",
       "    </tr>\n",
       "    <tr>\n",
       "      <th>8</th>\n",
       "      <td>2.143588e+07</td>\n",
       "      <td>-8.313040e+10</td>\n",
       "    </tr>\n",
       "    <tr>\n",
       "      <th>9</th>\n",
       "      <td>3.908923e+07</td>\n",
       "      <td>-6.672611e+10</td>\n",
       "    </tr>\n",
       "    <tr>\n",
       "      <th>10</th>\n",
       "      <td>6.797755e+07</td>\n",
       "      <td>-5.032181e+10</td>\n",
       "    </tr>\n",
       "    <tr>\n",
       "      <th>11</th>\n",
       "      <td>1.135222e+08</td>\n",
       "      <td>-3.391752e+10</td>\n",
       "    </tr>\n",
       "    <tr>\n",
       "      <th>12</th>\n",
       "      <td>1.830636e+08</td>\n",
       "      <td>-1.751322e+10</td>\n",
       "    </tr>\n",
       "    <tr>\n",
       "      <th>13</th>\n",
       "      <td>2.863311e+08</td>\n",
       "      <td>-1.108927e+09</td>\n",
       "    </tr>\n",
       "    <tr>\n",
       "      <th>14</th>\n",
       "      <td>4.359848e+08</td>\n",
       "      <td>1.529537e+10</td>\n",
       "    </tr>\n",
       "    <tr>\n",
       "      <th>15</th>\n",
       "      <td>9.435313e+08</td>\n",
       "      <td>4.810396e+10</td>\n",
       "    </tr>\n",
       "    <tr>\n",
       "      <th>16</th>\n",
       "      <td>1.347368e+09</td>\n",
       "      <td>6.450825e+10</td>\n",
       "    </tr>\n",
       "    <tr>\n",
       "      <th>17</th>\n",
       "      <td>1.891143e+09</td>\n",
       "      <td>8.091255e+10</td>\n",
       "    </tr>\n",
       "    <tr>\n",
       "      <th>18</th>\n",
       "      <td>3.559590e+09</td>\n",
       "      <td>1.137211e+11</td>\n",
       "    </tr>\n",
       "    <tr>\n",
       "      <th>19</th>\n",
       "      <td>6.357829e+09</td>\n",
       "      <td>1.465297e+11</td>\n",
       "    </tr>\n",
       "    <tr>\n",
       "      <th>20</th>\n",
       "      <td>8.353083e+09</td>\n",
       "      <td>1.629340e+11</td>\n",
       "    </tr>\n",
       "    <tr>\n",
       "      <th>21</th>\n",
       "      <td>8.353083e+09</td>\n",
       "      <td>1.629340e+11</td>\n",
       "    </tr>\n",
       "    <tr>\n",
       "      <th>22</th>\n",
       "      <td>1.786594e+10</td>\n",
       "      <td>2.121469e+11</td>\n",
       "    </tr>\n",
       "    <tr>\n",
       "      <th>23</th>\n",
       "      <td>2.842970e+10</td>\n",
       "      <td>2.449555e+11</td>\n",
       "    </tr>\n",
       "    <tr>\n",
       "      <th>24</th>\n",
       "      <td>3.546812e+10</td>\n",
       "      <td>2.613598e+11</td>\n",
       "    </tr>\n",
       "    <tr>\n",
       "      <th>25</th>\n",
       "      <td>4.395027e+10</td>\n",
       "      <td>2.777641e+11</td>\n",
       "    </tr>\n",
       "    <tr>\n",
       "      <th>26</th>\n",
       "      <td>6.623163e+10</td>\n",
       "      <td>3.105727e+11</td>\n",
       "    </tr>\n",
       "    <tr>\n",
       "      <th>27</th>\n",
       "      <td>8.060314e+10</td>\n",
       "      <td>3.269770e+11</td>\n",
       "    </tr>\n",
       "    <tr>\n",
       "      <th>28</th>\n",
       "      <td>1.175080e+11</td>\n",
       "      <td>3.597856e+11</td>\n",
       "    </tr>\n",
       "    <tr>\n",
       "      <th>29</th>\n",
       "      <td>1.408420e+11</td>\n",
       "      <td>3.761899e+11</td>\n",
       "    </tr>\n",
       "    <tr>\n",
       "      <th>30</th>\n",
       "      <td>1.996230e+11</td>\n",
       "      <td>4.089984e+11</td>\n",
       "    </tr>\n",
       "    <tr>\n",
       "      <th>31</th>\n",
       "      <td>2.782900e+11</td>\n",
       "      <td>4.418070e+11</td>\n",
       "    </tr>\n",
       "    <tr>\n",
       "      <th>32</th>\n",
       "      <td>3.821620e+11</td>\n",
       "      <td>4.746156e+11</td>\n",
       "    </tr>\n",
       "    <tr>\n",
       "      <th>33</th>\n",
       "      <td>2.246720e+12</td>\n",
       "      <td>6.878715e+11</td>\n",
       "    </tr>\n",
       "  </tbody>\n",
       "</table>\n",
       "</div>"
      ],
      "text/plain": [
       "          actual    prediction\n",
       "0   3.276000e+03 -2.143648e+11\n",
       "1   2.184000e+04 -1.979605e+11\n",
       "2   9.765000e+04 -1.815562e+11\n",
       "3   3.359160e+05 -1.651519e+11\n",
       "4   9.607920e+05 -1.487476e+11\n",
       "5   2.396736e+06 -1.323433e+11\n",
       "6   5.380830e+06 -1.159390e+11\n",
       "7   1.111110e+07 -9.953470e+10\n",
       "8   2.143588e+07 -8.313040e+10\n",
       "9   3.908923e+07 -6.672611e+10\n",
       "10  6.797755e+07 -5.032181e+10\n",
       "11  1.135222e+08 -3.391752e+10\n",
       "12  1.830636e+08 -1.751322e+10\n",
       "13  2.863311e+08 -1.108927e+09\n",
       "14  4.359848e+08  1.529537e+10\n",
       "15  9.435313e+08  4.810396e+10\n",
       "16  1.347368e+09  6.450825e+10\n",
       "17  1.891143e+09  8.091255e+10\n",
       "18  3.559590e+09  1.137211e+11\n",
       "19  6.357829e+09  1.465297e+11\n",
       "20  8.353083e+09  1.629340e+11\n",
       "21  8.353083e+09  1.629340e+11\n",
       "22  1.786594e+10  2.121469e+11\n",
       "23  2.842970e+10  2.449555e+11\n",
       "24  3.546812e+10  2.613598e+11\n",
       "25  4.395027e+10  2.777641e+11\n",
       "26  6.623163e+10  3.105727e+11\n",
       "27  8.060314e+10  3.269770e+11\n",
       "28  1.175080e+11  3.597856e+11\n",
       "29  1.408420e+11  3.761899e+11\n",
       "30  1.996230e+11  4.089984e+11\n",
       "31  2.782900e+11  4.418070e+11\n",
       "32  3.821620e+11  4.746156e+11\n",
       "33  2.246720e+12  6.878715e+11"
      ]
     },
     "execution_count": 34,
     "metadata": {},
     "output_type": "execute_result"
    }
   ],
   "source": [
    "df"
   ]
  },
  {
   "cell_type": "code",
   "execution_count": 35,
   "metadata": {},
   "outputs": [
    {
     "data": {
      "text/plain": [
       "[<matplotlib.lines.Line2D at 0x1771add52e8>]"
      ]
     },
     "execution_count": 35,
     "metadata": {},
     "output_type": "execute_result"
    },
    {
     "data": {
      "image/png": "[encoded data removed]",
      "text/plain": [
       "<Figure size 432x288 with 1 Axes>"
      ]
     },
     "metadata": {
      "needs_background": "light"
     },
     "output_type": "display_data"
    }
   ],
   "source": [
    "plt.plot(x, pred)"
   ]
  },
  {
   "cell_type": "markdown",
   "metadata": {},
   "source": [
    "# poly WITHOUT split"
   ]
  },
  {
   "cell_type": "code",
   "execution_count": 47,
   "metadata": {},
   "outputs": [
    {
     "name": "stdout",
     "output_type": "stream",
     "text": [
      "[[1.00000000e+00 3.00000000e+00 9.00000000e+00 2.70000000e+01\n",
      "  8.10000000e+01 2.43000000e+02 7.29000000e+02]\n",
      " [1.00000000e+00 4.00000000e+00 1.60000000e+01 6.40000000e+01\n",
      "  2.56000000e+02 1.02400000e+03 4.09600000e+03]\n",
      " [1.00000000e+00 5.00000000e+00 2.50000000e+01 1.25000000e+02\n",
      "  6.25000000e+02 3.12500000e+03 1.56250000e+04]\n",
      " [1.00000000e+00 6.00000000e+00 3.60000000e+01 2.16000000e+02\n",
      "  1.29600000e+03 7.77600000e+03 4.66560000e+04]\n",
      " [1.00000000e+00 7.00000000e+00 4.90000000e+01 3.43000000e+02\n",
      "  2.40100000e+03 1.68070000e+04 1.17649000e+05]\n",
      " [1.00000000e+00 8.00000000e+00 6.40000000e+01 5.12000000e+02\n",
      "  4.09600000e+03 3.27680000e+04 2.62144000e+05]\n",
      " [1.00000000e+00 9.00000000e+00 8.10000000e+01 7.29000000e+02\n",
      "  6.56100000e+03 5.90490000e+04 5.31441000e+05]\n",
      " [1.00000000e+00 1.00000000e+01 1.00000000e+02 1.00000000e+03\n",
      "  1.00000000e+04 1.00000000e+05 1.00000000e+06]\n",
      " [1.00000000e+00 1.10000000e+01 1.21000000e+02 1.33100000e+03\n",
      "  1.46410000e+04 1.61051000e+05 1.77156100e+06]\n",
      " [1.00000000e+00 1.20000000e+01 1.44000000e+02 1.72800000e+03\n",
      "  2.07360000e+04 2.48832000e+05 2.98598400e+06]\n",
      " [1.00000000e+00 1.30000000e+01 1.69000000e+02 2.19700000e+03\n",
      "  2.85610000e+04 3.71293000e+05 4.82680900e+06]\n",
      " [1.00000000e+00 1.40000000e+01 1.96000000e+02 2.74400000e+03\n",
      "  3.84160000e+04 5.37824000e+05 7.52953600e+06]\n",
      " [1.00000000e+00 1.50000000e+01 2.25000000e+02 3.37500000e+03\n",
      "  5.06250000e+04 7.59375000e+05 1.13906250e+07]\n",
      " [1.00000000e+00 1.60000000e+01 2.56000000e+02 4.09600000e+03\n",
      "  6.55360000e+04 1.04857600e+06 1.67772160e+07]\n",
      " [1.00000000e+00 1.70000000e+01 2.89000000e+02 4.91300000e+03\n",
      "  8.35210000e+04 1.41985700e+06 2.41375690e+07]\n",
      " [1.00000000e+00 1.90000000e+01 3.61000000e+02 6.85900000e+03\n",
      "  1.30321000e+05 2.47609900e+06 4.70458810e+07]\n",
      " [1.00000000e+00 2.00000000e+01 4.00000000e+02 8.00000000e+03\n",
      "  1.60000000e+05 3.20000000e+06 6.40000000e+07]\n",
      " [1.00000000e+00 2.10000000e+01 4.41000000e+02 9.26100000e+03\n",
      "  1.94481000e+05 4.08410100e+06 8.57661210e+07]\n",
      " [1.00000000e+00 2.30000000e+01 5.29000000e+02 1.21670000e+04\n",
      "  2.79841000e+05 6.43634300e+06 1.48035889e+08]\n",
      " [1.00000000e+00 2.50000000e+01 6.25000000e+02 1.56250000e+04\n",
      "  3.90625000e+05 9.76562500e+06 2.44140625e+08]\n",
      " [1.00000000e+00 2.60000000e+01 6.76000000e+02 1.75760000e+04\n",
      "  4.56976000e+05 1.18813760e+07 3.08915776e+08]\n",
      " [1.00000000e+00 2.60000000e+01 6.76000000e+02 1.75760000e+04\n",
      "  4.56976000e+05 1.18813760e+07 3.08915776e+08]\n",
      " [1.00000000e+00 2.90000000e+01 8.41000000e+02 2.43890000e+04\n",
      "  7.07281000e+05 2.05111490e+07 5.94823321e+08]\n",
      " [1.00000000e+00 3.10000000e+01 9.61000000e+02 2.97910000e+04\n",
      "  9.23521000e+05 2.86291510e+07 8.87503681e+08]\n",
      " [1.00000000e+00 3.20000000e+01 1.02400000e+03 3.27680000e+04\n",
      "  1.04857600e+06 3.35544320e+07 1.07374182e+09]\n",
      " [1.00000000e+00 3.30000000e+01 1.08900000e+03 3.59370000e+04\n",
      "  1.18592100e+06 3.91353930e+07 1.29146797e+09]\n",
      " [1.00000000e+00 3.50000000e+01 1.22500000e+03 4.28750000e+04\n",
      "  1.50062500e+06 5.25218750e+07 1.83826562e+09]\n",
      " [1.00000000e+00 3.60000000e+01 1.29600000e+03 4.66560000e+04\n",
      "  1.67961600e+06 6.04661760e+07 2.17678234e+09]\n",
      " [1.00000000e+00 3.80000000e+01 1.44400000e+03 5.48720000e+04\n",
      "  2.08513600e+06 7.92351680e+07 3.01093638e+09]\n",
      " [1.00000000e+00 3.90000000e+01 1.52100000e+03 5.93190000e+04\n",
      "  2.31344100e+06 9.02241990e+07 3.51874376e+09]\n",
      " [1.00000000e+00 4.10000000e+01 1.68100000e+03 6.89210000e+04\n",
      "  2.82576100e+06 1.15856201e+08 4.75010424e+09]\n",
      " [1.00000000e+00 4.30000000e+01 1.84900000e+03 7.95070000e+04\n",
      "  3.41880100e+06 1.47008443e+08 6.32136305e+09]\n",
      " [1.00000000e+00 4.50000000e+01 2.02500000e+03 9.11250000e+04\n",
      "  4.10062500e+06 1.84528125e+08 8.30376562e+09]\n",
      " [1.00000000e+00 5.80000000e+01 3.36400000e+03 1.95112000e+05\n",
      "  1.13164960e+07 6.56356768e+08 3.80686925e+10]]\n"
     ]
    }
   ],
   "source": [
    "from sklearn.preprocessing import PolynomialFeatures\n",
    "polynomial_features= PolynomialFeatures(degree=6)\n",
    "x_poly = polynomial_features.fit_transform(x)\n",
    "print(x_poly)"
   ]
  },
  {
   "cell_type": "code",
   "execution_count": 48,
   "metadata": {},
   "outputs": [
    {
     "data": {
      "text/plain": [
       "LinearRegression(copy_X=True, fit_intercept=True, n_jobs=None, normalize=False)"
      ]
     },
     "execution_count": 48,
     "metadata": {},
     "output_type": "execute_result"
    }
   ],
   "source": [
    "model.fit(x_poly,y)"
   ]
  },
  {
   "cell_type": "code",
   "execution_count": 49,
   "metadata": {},
   "outputs": [
    {
     "data": {
      "text/plain": [
       "array([ 1.03398937e+08, -2.02696161e+07, -7.10116419e+07, -7.56890238e+07,\n",
       "       -5.43729248e+07, -2.13553307e+07,  1.39792060e+07,  4.64216228e+07,\n",
       "        7.43462022e+07,  9.92582281e+07,  1.25481440e+08,  1.59985290e+08,\n",
       "        2.12351995e+08,  2.94883393e+08,  4.22847596e+08,  8.93436764e+08,\n",
       "        1.28560641e+09,  1.82377013e+09,  3.50023096e+09,  6.32843279e+09,\n",
       "        8.34380868e+09,  8.34380868e+09,  1.79162816e+10,  2.85010469e+10,\n",
       "        3.55400965e+10,  4.40154156e+10,  6.62617693e+10,  8.06074398e+10,\n",
       "        1.17455363e+11,  1.40765623e+11,  1.99527882e+11,  2.78248741e+11,\n",
       "        3.82281870e+11,  2.24671626e+12])"
      ]
     },
     "execution_count": 49,
     "metadata": {},
     "output_type": "execute_result"
    }
   ],
   "source": [
    "y_poly_pred=model.predict(x_poly)\n",
    "y_poly_pred"
   ]
  },
  {
   "cell_type": "code",
   "execution_count": 50,
   "metadata": {},
   "outputs": [
    {
     "name": "stdout",
     "output_type": "stream",
     "text": [
      "56101196.212053455\n",
      "0.9999999784431316\n"
     ]
    }
   ],
   "source": [
    "rmse = np.sqrt(mean_squared_error(y,y_poly_pred))\n",
    "print(rmse)\n",
    "print(r2_score(y,y_poly_pred))"
   ]
  },
  {
   "cell_type": "code",
   "execution_count": 51,
   "metadata": {},
   "outputs": [
    {
     "data": {
      "text/plain": [
       "[<matplotlib.lines.Line2D at 0x1771b22e4a8>]"
      ]
     },
     "execution_count": 51,
     "metadata": {},
     "output_type": "execute_result"
    },
    {
     "data": {
      "image/png": "[encoded data removed]",
      "text/plain": [
       "<Figure size 432x288 with 1 Axes>"
      ]
     },
     "metadata": {
      "needs_background": "light"
     },
     "output_type": "display_data"
    }
   ],
   "source": [
    "plt.plot(x,y_poly_pred)    #6   as  56101196.212053455"
   ]
  },
  {
   "cell_type": "code",
   "execution_count": 41,
   "metadata": {},
   "outputs": [
    {
     "data": {
      "image/png": "[encoded data removed]",
      "text/plain": [
       "<Figure size 432x288 with 1 Axes>"
      ]
     },
     "metadata": {
      "needs_background": "light"
     },
     "output_type": "display_data"
    }
   ],
   "source": [
    "table1 = plt.plot(x,y_poly_pred)    #12      59409.656055345586 "
   ]
  },
  {
   "cell_type": "markdown",
   "metadata": {},
   "source": [
    "# poly with split"
   ]
  },
  {
   "cell_type": "code",
   "execution_count": 52,
   "metadata": {},
   "outputs": [
    {
     "name": "stdout",
     "output_type": "stream",
     "text": [
      "(27, 7)\n",
      "(7, 7)\n",
      "(27,)\n",
      "(7,)\n"
     ]
    }
   ],
   "source": [
    "x_train, x_test, y_train, y_test = train_test_split(x_poly, y, test_size = 0.20, random_state = 0)\n",
    "print(x_train.shape)\n",
    "print(x_test.shape)\n",
    "print(y_train.shape)\n",
    "print(y_test.shape)"
   ]
  },
  {
   "cell_type": "code",
   "execution_count": 53,
   "metadata": {},
   "outputs": [
    {
     "data": {
      "text/plain": [
       "LinearRegression(copy_X=True, fit_intercept=True, n_jobs=None, normalize=False)"
      ]
     },
     "execution_count": 53,
     "metadata": {},
     "output_type": "execute_result"
    }
   ],
   "source": [
    "model.fit(x_train,y_train)"
   ]
  },
  {
   "cell_type": "code",
   "execution_count": 54,
   "metadata": {},
   "outputs": [
    {
     "data": {
      "text/plain": [
       "array([ 1.62360155e+08,  8.33894658e+09,  4.40300529e+10,  1.81665101e+09,\n",
       "       -8.57461669e+07,  6.62802889e+10,  2.78233084e+11])"
      ]
     },
     "execution_count": 54,
     "metadata": {},
     "output_type": "execute_result"
    }
   ],
   "source": [
    "y_spoly_pred=model.predict(x_test)\n",
    "y_spoly_pred"
   ]
  },
  {
   "cell_type": "code",
   "execution_count": 55,
   "metadata": {},
   "outputs": [
    {
     "name": "stdout",
     "output_type": "stream",
     "text": [
      "62650755.13303752\n",
      "0.9999995504121271\n"
     ]
    }
   ],
   "source": [
    "rmse = np.sqrt(mean_squared_error(y_test,y_spoly_pred))\n",
    "print(rmse)\n",
    "print(r2_score(y_test,y_spoly_pred))"
   ]
  },
  {
   "cell_type": "code",
   "execution_count": 56,
   "metadata": {},
   "outputs": [
    {
     "data": {
      "text/plain": [
       "[<matplotlib.lines.Line2D at 0x1771b28e400>,\n",
       " <matplotlib.lines.Line2D at 0x1771b28e550>,\n",
       " <matplotlib.lines.Line2D at 0x1771b28e6a0>,\n",
       " <matplotlib.lines.Line2D at 0x1771b28e7f0>,\n",
       " <matplotlib.lines.Line2D at 0x1771b28e940>,\n",
       " <matplotlib.lines.Line2D at 0x1771b28ea90>,\n",
       " <matplotlib.lines.Line2D at 0x1771b28ebe0>]"
      ]
     },
     "execution_count": 56,
     "metadata": {},
     "output_type": "execute_result"
    },
    {
     "data": {
      "image/png": "[encoded data removed]",
      "text/plain": [
       "<Figure size 432x288 with 1 Axes>"
      ]
     },
     "metadata": {
      "needs_background": "light"
     },
     "output_type": "display_data"
    }
   ],
   "source": [
    "plt.plot(x_test,y_spoly_pred)"
   ]
  },
  {
   "cell_type": "code",
   "execution_count": null,
   "metadata": {},
   "outputs": [],
   "source": []
  },
  {
   "cell_type": "code",
   "execution_count": null,
   "metadata": {},
   "outputs": [],
   "source": []
  },
  {
   "cell_type": "code",
   "execution_count": null,
   "metadata": {},
   "outputs": [],
   "source": []
  }
 ],
 "metadata": {
  "kernelspec": {
   "display_name": "Python 3",
   "language": "python",
   "name": "python3"
  },
  "language_info": {
   "codemirror_mode": {
    "name": "ipython",
    "version": 3
   },
   "file_extension": ".py",
   "mimetype": "text/x-python",
   "name": "python",
   "nbconvert_exporter": "python",
   "pygments_lexer": "ipython3",
   "version": "3.7.3"
  }
 },
 "nbformat": 4,
 "nbformat_minor": 2
}
