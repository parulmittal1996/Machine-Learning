{
 "cells": [
  {
   "cell_type": "code",
   "execution_count": 1,
   "metadata": {},
   "outputs": [
    {
     "data": {
      "text/html": [
       "<div>\n",
       "<style scoped>\n",
       "    .dataframe tbody tr th:only-of-type {\n",
       "        vertical-align: middle;\n",
       "    }\n",
       "\n",
       "    .dataframe tbody tr th {\n",
       "        vertical-align: top;\n",
       "    }\n",
       "\n",
       "    .dataframe thead th {\n",
       "        text-align: right;\n",
       "    }\n",
       "</style>\n",
       "<table border=\"1\" class=\"dataframe\">\n",
       "  <thead>\n",
       "    <tr style=\"text-align: right;\">\n",
       "      <th></th>\n",
       "      <th>input1</th>\n",
       "      <th>input2</th>\n",
       "      <th>Unnamed: 2</th>\n",
       "    </tr>\n",
       "  </thead>\n",
       "  <tbody>\n",
       "    <tr>\n",
       "      <th>0</th>\n",
       "      <td>1092.0</td>\n",
       "      <td>3</td>\n",
       "      <td>6572.0</td>\n",
       "    </tr>\n",
       "    <tr>\n",
       "      <th>1</th>\n",
       "      <td>7280.0</td>\n",
       "      <td>4</td>\n",
       "      <td>43700.0</td>\n",
       "    </tr>\n",
       "  </tbody>\n",
       "</table>\n",
       "</div>"
      ],
      "text/plain": [
       "   input1  input2  Unnamed: 2\n",
       "0  1092.0       3      6572.0\n",
       "1  7280.0       4     43700.0"
      ]
     },
     "execution_count": 1,
     "metadata": {},
     "output_type": "execute_result"
    }
   ],
   "source": [
    "import pandas as pd\n",
    "import numpy as np\n",
    "import matplotlib.pyplot as plt\n",
    "data = pd.read_csv(\"Practice2updated.csv\")\n",
    "data.head(2)"
   ]
  },
  {
   "cell_type": "code",
   "execution_count": 30,
   "metadata": {},
   "outputs": [],
   "source": [
    "x1 = data.iloc[:,:1]\n",
    "x2 = data.iloc[:,1:2]\n",
    "y = data.iloc[:,-1]\n"
   ]
  },
  {
   "cell_type": "code",
   "execution_count": 31,
   "metadata": {},
   "outputs": [
    {
     "data": {
      "text/plain": [
       "[<matplotlib.lines.Line2D at 0x2279b9e9630>]"
      ]
     },
     "execution_count": 31,
     "metadata": {},
     "output_type": "execute_result"
    },
    {
     "data": {
      "image/png": "[encoded data removed]",
      "text/plain": [
       "<Figure size 432x288 with 1 Axes>"
      ]
     },
     "metadata": {
      "needs_background": "light"
     },
     "output_type": "display_data"
    }
   ],
   "source": [
    "plt.plot(x1,y)"
   ]
  },
  {
   "cell_type": "code",
   "execution_count": 32,
   "metadata": {},
   "outputs": [
    {
     "data": {
      "text/plain": [
       "[<matplotlib.lines.Line2D at 0x2279ba3fa58>]"
      ]
     },
     "execution_count": 32,
     "metadata": {},
     "output_type": "execute_result"
    },
    {
     "data": {
      "image/png": "[encoded data removed]",
      "text/plain": [
       "<Figure size 432x288 with 1 Axes>"
      ]
     },
     "metadata": {
      "needs_background": "light"
     },
     "output_type": "display_data"
    }
   ],
   "source": [
    "plt.plot(x2,y)"
   ]
  },
  {
   "cell_type": "code",
   "execution_count": 44,
   "metadata": {},
   "outputs": [],
   "source": [
    "from sklearn.linear_model import LinearRegression\n",
    "lr = LinearRegression()"
   ]
  },
  {
   "cell_type": "code",
   "execution_count": 45,
   "metadata": {},
   "outputs": [
    {
     "data": {
      "text/plain": [
       "LinearRegression(copy_X=True, fit_intercept=True, n_jobs=None, normalize=False)"
      ]
     },
     "execution_count": 45,
     "metadata": {},
     "output_type": "execute_result"
    }
   ],
   "source": [
    "lr.fit(x1,y)"
   ]
  },
  {
   "cell_type": "code",
   "execution_count": 46,
   "metadata": {},
   "outputs": [],
   "source": [
    "y_pred = lr.predict(x1)"
   ]
  },
  {
   "cell_type": "code",
   "execution_count": 47,
   "metadata": {},
   "outputs": [
    {
     "data": {
      "text/plain": [
       "array([7.98975391e+04, 1.17025525e+05, 2.68645468e+05, 7.45177290e+05,\n",
       "       1.99492882e+06, 4.86681575e+06, 1.08350015e+07, 2.22955372e+07,\n",
       "       4.29450815e+07, 7.82517803e+07, 1.36028387e+08, 2.27117701e+08,\n",
       "       3.66200408e+08, 5.72735403e+08, 8.72042663e+08, 1.88713516e+09,\n",
       "       2.69480914e+09, 3.78235782e+09, 7.11925111e+09, 1.27157261e+10,\n",
       "       1.67062322e+10, 1.67062322e+10, 3.57319465e+10, 5.68594545e+10,\n",
       "       7.09362808e+10, 8.79005790e+10, 1.32463282e+11, 1.61206293e+11,\n",
       "       2.35015777e+11, 2.81684666e+11, 3.99246185e+11, 5.56580830e+11,\n",
       "       7.64321787e+11, 4.49344039e+12])"
      ]
     },
     "execution_count": 47,
     "metadata": {},
     "output_type": "execute_result"
    }
   ],
   "source": [
    "y_pred"
   ]
  },
  {
   "cell_type": "code",
   "execution_count": 48,
   "metadata": {},
   "outputs": [
    {
     "name": "stdout",
     "output_type": "stream",
     "text": [
      "The model performance of training set:\n",
      "RMSE is: 404559.27370655857\n",
      "r2_score: 0.9999999999997198\n"
     ]
    }
   ],
   "source": [
    "from sklearn.metrics import mean_squared_error, r2_score\n",
    "rmse = np.sqrt(mean_squared_error(y, y_pred))\n",
    "r2score = r2_score(y, y_pred)\n",
    "print(\"The model performance of training set:\")\n",
    "print(\"RMSE is:\", rmse)\n",
    "print(\"r2_score:\", r2score)"
   ]
  },
  {
   "cell_type": "code",
   "execution_count": 49,
   "metadata": {},
   "outputs": [
    {
     "data": {
      "text/plain": [
       "[<matplotlib.lines.Line2D at 0x2279bb5fcf8>]"
      ]
     },
     "execution_count": 49,
     "metadata": {},
     "output_type": "execute_result"
    },
    {
     "data": {
      "image/png": "[encoded data removed]",
      "text/plain": [
       "<Figure size 432x288 with 1 Axes>"
      ]
     },
     "metadata": {
      "needs_background": "light"
     },
     "output_type": "display_data"
    }
   ],
   "source": [
    "plt.plot(x1,y_pred)"
   ]
  },
  {
   "cell_type": "code",
   "execution_count": 50,
   "metadata": {},
   "outputs": [
    {
     "data": {
      "text/html": [
       "<div>\n",
       "<style scoped>\n",
       "    .dataframe tbody tr th:only-of-type {\n",
       "        vertical-align: middle;\n",
       "    }\n",
       "\n",
       "    .dataframe tbody tr th {\n",
       "        vertical-align: top;\n",
       "    }\n",
       "\n",
       "    .dataframe thead th {\n",
       "        text-align: right;\n",
       "    }\n",
       "</style>\n",
       "<table border=\"1\" class=\"dataframe\">\n",
       "  <thead>\n",
       "    <tr style=\"text-align: right;\">\n",
       "      <th></th>\n",
       "      <th>Actual</th>\n",
       "      <th>Predicted</th>\n",
       "    </tr>\n",
       "  </thead>\n",
       "  <tbody>\n",
       "    <tr>\n",
       "      <th>0</th>\n",
       "      <td>6.572000e+03</td>\n",
       "      <td>7.989754e+04</td>\n",
       "    </tr>\n",
       "    <tr>\n",
       "      <th>1</th>\n",
       "      <td>4.370000e+04</td>\n",
       "      <td>1.170255e+05</td>\n",
       "    </tr>\n",
       "    <tr>\n",
       "      <th>2</th>\n",
       "      <td>1.953200e+05</td>\n",
       "      <td>2.686455e+05</td>\n",
       "    </tr>\n",
       "    <tr>\n",
       "      <th>3</th>\n",
       "      <td>6.718520e+05</td>\n",
       "      <td>7.451773e+05</td>\n",
       "    </tr>\n",
       "    <tr>\n",
       "      <th>4</th>\n",
       "      <td>1.921604e+06</td>\n",
       "      <td>1.994929e+06</td>\n",
       "    </tr>\n",
       "    <tr>\n",
       "      <th>5</th>\n",
       "      <td>4.793492e+06</td>\n",
       "      <td>4.866816e+06</td>\n",
       "    </tr>\n",
       "    <tr>\n",
       "      <th>6</th>\n",
       "      <td>1.076168e+07</td>\n",
       "      <td>1.083500e+07</td>\n",
       "    </tr>\n",
       "    <tr>\n",
       "      <th>7</th>\n",
       "      <td>2.222222e+07</td>\n",
       "      <td>2.229554e+07</td>\n",
       "    </tr>\n",
       "    <tr>\n",
       "      <th>8</th>\n",
       "      <td>4.287177e+07</td>\n",
       "      <td>4.294508e+07</td>\n",
       "    </tr>\n",
       "    <tr>\n",
       "      <th>9</th>\n",
       "      <td>7.817848e+07</td>\n",
       "      <td>7.825178e+07</td>\n",
       "    </tr>\n",
       "    <tr>\n",
       "      <th>10</th>\n",
       "      <td>1.359551e+08</td>\n",
       "      <td>1.360284e+08</td>\n",
       "    </tr>\n",
       "    <tr>\n",
       "      <th>11</th>\n",
       "      <td>2.270445e+08</td>\n",
       "      <td>2.271177e+08</td>\n",
       "    </tr>\n",
       "    <tr>\n",
       "      <th>12</th>\n",
       "      <td>3.661272e+08</td>\n",
       "      <td>3.662004e+08</td>\n",
       "    </tr>\n",
       "    <tr>\n",
       "      <th>13</th>\n",
       "      <td>5.726623e+08</td>\n",
       "      <td>5.727354e+08</td>\n",
       "    </tr>\n",
       "    <tr>\n",
       "      <th>14</th>\n",
       "      <td>8.719697e+08</td>\n",
       "      <td>8.720427e+08</td>\n",
       "    </tr>\n",
       "    <tr>\n",
       "      <th>15</th>\n",
       "      <td>1.887063e+09</td>\n",
       "      <td>1.887135e+09</td>\n",
       "    </tr>\n",
       "    <tr>\n",
       "      <th>16</th>\n",
       "      <td>2.694737e+09</td>\n",
       "      <td>2.694809e+09</td>\n",
       "    </tr>\n",
       "    <tr>\n",
       "      <th>17</th>\n",
       "      <td>3.782286e+09</td>\n",
       "      <td>3.782358e+09</td>\n",
       "    </tr>\n",
       "    <tr>\n",
       "      <th>18</th>\n",
       "      <td>7.119180e+09</td>\n",
       "      <td>7.119251e+09</td>\n",
       "    </tr>\n",
       "    <tr>\n",
       "      <th>19</th>\n",
       "      <td>1.271566e+10</td>\n",
       "      <td>1.271573e+10</td>\n",
       "    </tr>\n",
       "    <tr>\n",
       "      <th>20</th>\n",
       "      <td>1.670617e+10</td>\n",
       "      <td>1.670623e+10</td>\n",
       "    </tr>\n",
       "    <tr>\n",
       "      <th>21</th>\n",
       "      <td>1.670617e+10</td>\n",
       "      <td>1.670623e+10</td>\n",
       "    </tr>\n",
       "    <tr>\n",
       "      <th>22</th>\n",
       "      <td>3.573189e+10</td>\n",
       "      <td>3.573195e+10</td>\n",
       "    </tr>\n",
       "    <tr>\n",
       "      <th>23</th>\n",
       "      <td>5.685940e+10</td>\n",
       "      <td>5.685945e+10</td>\n",
       "    </tr>\n",
       "    <tr>\n",
       "      <th>24</th>\n",
       "      <td>7.093623e+10</td>\n",
       "      <td>7.093628e+10</td>\n",
       "    </tr>\n",
       "    <tr>\n",
       "      <th>25</th>\n",
       "      <td>8.790054e+10</td>\n",
       "      <td>8.790058e+10</td>\n",
       "    </tr>\n",
       "    <tr>\n",
       "      <th>26</th>\n",
       "      <td>1.324630e+11</td>\n",
       "      <td>1.324633e+11</td>\n",
       "    </tr>\n",
       "    <tr>\n",
       "      <th>27</th>\n",
       "      <td>1.612060e+11</td>\n",
       "      <td>1.612063e+11</td>\n",
       "    </tr>\n",
       "    <tr>\n",
       "      <th>28</th>\n",
       "      <td>2.350160e+11</td>\n",
       "      <td>2.350158e+11</td>\n",
       "    </tr>\n",
       "    <tr>\n",
       "      <th>29</th>\n",
       "      <td>2.816850e+11</td>\n",
       "      <td>2.816847e+11</td>\n",
       "    </tr>\n",
       "    <tr>\n",
       "      <th>30</th>\n",
       "      <td>3.992460e+11</td>\n",
       "      <td>3.992462e+11</td>\n",
       "    </tr>\n",
       "    <tr>\n",
       "      <th>31</th>\n",
       "      <td>5.565810e+11</td>\n",
       "      <td>5.565808e+11</td>\n",
       "    </tr>\n",
       "    <tr>\n",
       "      <th>32</th>\n",
       "      <td>7.643240e+11</td>\n",
       "      <td>7.643218e+11</td>\n",
       "    </tr>\n",
       "    <tr>\n",
       "      <th>33</th>\n",
       "      <td>4.493440e+12</td>\n",
       "      <td>4.493440e+12</td>\n",
       "    </tr>\n",
       "  </tbody>\n",
       "</table>\n",
       "</div>"
      ],
      "text/plain": [
       "          Actual     Predicted\n",
       "0   6.572000e+03  7.989754e+04\n",
       "1   4.370000e+04  1.170255e+05\n",
       "2   1.953200e+05  2.686455e+05\n",
       "3   6.718520e+05  7.451773e+05\n",
       "4   1.921604e+06  1.994929e+06\n",
       "5   4.793492e+06  4.866816e+06\n",
       "6   1.076168e+07  1.083500e+07\n",
       "7   2.222222e+07  2.229554e+07\n",
       "8   4.287177e+07  4.294508e+07\n",
       "9   7.817848e+07  7.825178e+07\n",
       "10  1.359551e+08  1.360284e+08\n",
       "11  2.270445e+08  2.271177e+08\n",
       "12  3.661272e+08  3.662004e+08\n",
       "13  5.726623e+08  5.727354e+08\n",
       "14  8.719697e+08  8.720427e+08\n",
       "15  1.887063e+09  1.887135e+09\n",
       "16  2.694737e+09  2.694809e+09\n",
       "17  3.782286e+09  3.782358e+09\n",
       "18  7.119180e+09  7.119251e+09\n",
       "19  1.271566e+10  1.271573e+10\n",
       "20  1.670617e+10  1.670623e+10\n",
       "21  1.670617e+10  1.670623e+10\n",
       "22  3.573189e+10  3.573195e+10\n",
       "23  5.685940e+10  5.685945e+10\n",
       "24  7.093623e+10  7.093628e+10\n",
       "25  8.790054e+10  8.790058e+10\n",
       "26  1.324630e+11  1.324633e+11\n",
       "27  1.612060e+11  1.612063e+11\n",
       "28  2.350160e+11  2.350158e+11\n",
       "29  2.816850e+11  2.816847e+11\n",
       "30  3.992460e+11  3.992462e+11\n",
       "31  5.565810e+11  5.565808e+11\n",
       "32  7.643240e+11  7.643218e+11\n",
       "33  4.493440e+12  4.493440e+12"
      ]
     },
     "execution_count": 50,
     "metadata": {},
     "output_type": "execute_result"
    }
   ],
   "source": [
    "df=pd.DataFrame({'Actual':y,'Predicted':y_pred})\n",
    "df"
   ]
  },
  {
   "cell_type": "markdown",
   "metadata": {},
   "source": [
    "# polynomial regression at degree 12"
   ]
  },
  {
   "cell_type": "code",
   "execution_count": 51,
   "metadata": {},
   "outputs": [
    {
     "name": "stdout",
     "output_type": "stream",
     "text": [
      "[[1.00000000e+00 3.00000000e+00 9.00000000e+00 2.70000000e+01\n",
      "  8.10000000e+01 2.43000000e+02 7.29000000e+02 2.18700000e+03\n",
      "  6.56100000e+03 1.96830000e+04 5.90490000e+04 1.77147000e+05\n",
      "  5.31441000e+05]\n",
      " [1.00000000e+00 4.00000000e+00 1.60000000e+01 6.40000000e+01\n",
      "  2.56000000e+02 1.02400000e+03 4.09600000e+03 1.63840000e+04\n",
      "  6.55360000e+04 2.62144000e+05 1.04857600e+06 4.19430400e+06\n",
      "  1.67772160e+07]\n",
      " [1.00000000e+00 5.00000000e+00 2.50000000e+01 1.25000000e+02\n",
      "  6.25000000e+02 3.12500000e+03 1.56250000e+04 7.81250000e+04\n",
      "  3.90625000e+05 1.95312500e+06 9.76562500e+06 4.88281250e+07\n",
      "  2.44140625e+08]\n",
      " [1.00000000e+00 6.00000000e+00 3.60000000e+01 2.16000000e+02\n",
      "  1.29600000e+03 7.77600000e+03 4.66560000e+04 2.79936000e+05\n",
      "  1.67961600e+06 1.00776960e+07 6.04661760e+07 3.62797056e+08\n",
      "  2.17678234e+09]\n",
      " [1.00000000e+00 7.00000000e+00 4.90000000e+01 3.43000000e+02\n",
      "  2.40100000e+03 1.68070000e+04 1.17649000e+05 8.23543000e+05\n",
      "  5.76480100e+06 4.03536070e+07 2.82475249e+08 1.97732674e+09\n",
      "  1.38412872e+10]\n",
      " [1.00000000e+00 8.00000000e+00 6.40000000e+01 5.12000000e+02\n",
      "  4.09600000e+03 3.27680000e+04 2.62144000e+05 2.09715200e+06\n",
      "  1.67772160e+07 1.34217728e+08 1.07374182e+09 8.58993459e+09\n",
      "  6.87194767e+10]\n",
      " [1.00000000e+00 9.00000000e+00 8.10000000e+01 7.29000000e+02\n",
      "  6.56100000e+03 5.90490000e+04 5.31441000e+05 4.78296900e+06\n",
      "  4.30467210e+07 3.87420489e+08 3.48678440e+09 3.13810596e+10\n",
      "  2.82429536e+11]\n",
      " [1.00000000e+00 1.00000000e+01 1.00000000e+02 1.00000000e+03\n",
      "  1.00000000e+04 1.00000000e+05 1.00000000e+06 1.00000000e+07\n",
      "  1.00000000e+08 1.00000000e+09 1.00000000e+10 1.00000000e+11\n",
      "  1.00000000e+12]\n",
      " [1.00000000e+00 1.10000000e+01 1.21000000e+02 1.33100000e+03\n",
      "  1.46410000e+04 1.61051000e+05 1.77156100e+06 1.94871710e+07\n",
      "  2.14358881e+08 2.35794769e+09 2.59374246e+10 2.85311671e+11\n",
      "  3.13842838e+12]\n",
      " [1.00000000e+00 1.20000000e+01 1.44000000e+02 1.72800000e+03\n",
      "  2.07360000e+04 2.48832000e+05 2.98598400e+06 3.58318080e+07\n",
      "  4.29981696e+08 5.15978035e+09 6.19173642e+10 7.43008371e+11\n",
      "  8.91610045e+12]\n",
      " [1.00000000e+00 1.30000000e+01 1.69000000e+02 2.19700000e+03\n",
      "  2.85610000e+04 3.71293000e+05 4.82680900e+06 6.27485170e+07\n",
      "  8.15730721e+08 1.06044994e+10 1.37858492e+11 1.79216039e+12\n",
      "  2.32980851e+13]\n",
      " [1.00000000e+00 1.40000000e+01 1.96000000e+02 2.74400000e+03\n",
      "  3.84160000e+04 5.37824000e+05 7.52953600e+06 1.05413504e+08\n",
      "  1.47578906e+09 2.06610468e+10 2.89254655e+11 4.04956517e+12\n",
      "  5.66939124e+13]\n",
      " [1.00000000e+00 1.50000000e+01 2.25000000e+02 3.37500000e+03\n",
      "  5.06250000e+04 7.59375000e+05 1.13906250e+07 1.70859375e+08\n",
      "  2.56289062e+09 3.84433594e+10 5.76650391e+11 8.64975586e+12\n",
      "  1.29746338e+14]\n",
      " [1.00000000e+00 1.60000000e+01 2.56000000e+02 4.09600000e+03\n",
      "  6.55360000e+04 1.04857600e+06 1.67772160e+07 2.68435456e+08\n",
      "  4.29496730e+09 6.87194767e+10 1.09951163e+12 1.75921860e+13\n",
      "  2.81474977e+14]\n",
      " [1.00000000e+00 1.70000000e+01 2.89000000e+02 4.91300000e+03\n",
      "  8.35210000e+04 1.41985700e+06 2.41375690e+07 4.10338673e+08\n",
      "  6.97575744e+09 1.18587876e+11 2.01599390e+12 3.42718963e+13\n",
      "  5.82622237e+14]\n",
      " [1.00000000e+00 1.90000000e+01 3.61000000e+02 6.85900000e+03\n",
      "  1.30321000e+05 2.47609900e+06 4.70458810e+07 8.93871739e+08\n",
      "  1.69835630e+10 3.22687698e+11 6.13106626e+12 1.16490259e+14\n",
      "  2.21331492e+15]\n",
      " [1.00000000e+00 2.00000000e+01 4.00000000e+02 8.00000000e+03\n",
      "  1.60000000e+05 3.20000000e+06 6.40000000e+07 1.28000000e+09\n",
      "  2.56000000e+10 5.12000000e+11 1.02400000e+13 2.04800000e+14\n",
      "  4.09600000e+15]\n",
      " [1.00000000e+00 2.10000000e+01 4.41000000e+02 9.26100000e+03\n",
      "  1.94481000e+05 4.08410100e+06 8.57661210e+07 1.80108854e+09\n",
      "  3.78228594e+10 7.94280047e+11 1.66798810e+13 3.50277501e+14\n",
      "  7.35582751e+15]\n",
      " [1.00000000e+00 2.30000000e+01 5.29000000e+02 1.21670000e+04\n",
      "  2.79841000e+05 6.43634300e+06 1.48035889e+08 3.40482545e+09\n",
      "  7.83109853e+10 1.80115266e+12 4.14265112e+13 9.52809758e+14\n",
      "  2.19146244e+16]\n",
      " [1.00000000e+00 2.50000000e+01 6.25000000e+02 1.56250000e+04\n",
      "  3.90625000e+05 9.76562500e+06 2.44140625e+08 6.10351562e+09\n",
      "  1.52587891e+11 3.81469727e+12 9.53674316e+13 2.38418579e+15\n",
      "  5.96046448e+16]\n",
      " [1.00000000e+00 2.60000000e+01 6.76000000e+02 1.75760000e+04\n",
      "  4.56976000e+05 1.18813760e+07 3.08915776e+08 8.03181018e+09\n",
      "  2.08827065e+11 5.42950368e+12 1.41167096e+14 3.67034449e+15\n",
      "  9.54289567e+16]\n",
      " [1.00000000e+00 2.60000000e+01 6.76000000e+02 1.75760000e+04\n",
      "  4.56976000e+05 1.18813760e+07 3.08915776e+08 8.03181018e+09\n",
      "  2.08827065e+11 5.42950368e+12 1.41167096e+14 3.67034449e+15\n",
      "  9.54289567e+16]\n",
      " [1.00000000e+00 2.90000000e+01 8.41000000e+02 2.43890000e+04\n",
      "  7.07281000e+05 2.05111490e+07 5.94823321e+08 1.72498763e+10\n",
      "  5.00246413e+11 1.45071460e+13 4.20707233e+14 1.22005098e+16\n",
      "  3.53814783e+17]\n",
      " [1.00000000e+00 3.10000000e+01 9.61000000e+02 2.97910000e+04\n",
      "  9.23521000e+05 2.86291510e+07 8.87503681e+08 2.75126141e+10\n",
      "  8.52891037e+11 2.64396222e+13 8.19628287e+14 2.54084769e+16\n",
      "  7.87662784e+17]\n",
      " [1.00000000e+00 3.20000000e+01 1.02400000e+03 3.27680000e+04\n",
      "  1.04857600e+06 3.35544320e+07 1.07374182e+09 3.43597384e+10\n",
      "  1.09951163e+12 3.51843721e+13 1.12589991e+15 3.60287970e+16\n",
      "  1.15292150e+18]\n",
      " [1.00000000e+00 3.30000000e+01 1.08900000e+03 3.59370000e+04\n",
      "  1.18592100e+06 3.91353930e+07 1.29146797e+09 4.26184430e+10\n",
      "  1.40640862e+12 4.64114844e+13 1.53157899e+15 5.05421065e+16\n",
      "  1.66788951e+18]\n",
      " [1.00000000e+00 3.50000000e+01 1.22500000e+03 4.28750000e+04\n",
      "  1.50062500e+06 5.25218750e+07 1.83826562e+09 6.43392969e+10\n",
      "  2.25187539e+12 7.88156387e+13 2.75854735e+15 9.65491574e+16\n",
      "  3.37922051e+18]\n",
      " [1.00000000e+00 3.60000000e+01 1.29600000e+03 4.66560000e+04\n",
      "  1.67961600e+06 6.04661760e+07 2.17678234e+09 7.83641641e+10\n",
      "  2.82110991e+12 1.01559957e+14 3.65615844e+15 1.31621704e+17\n",
      "  4.73838134e+18]\n",
      " [1.00000000e+00 3.80000000e+01 1.44400000e+03 5.48720000e+04\n",
      "  2.08513600e+06 7.92351680e+07 3.01093638e+09 1.14415583e+11\n",
      "  4.34779214e+12 1.65216101e+14 6.27821185e+15 2.38572050e+17\n",
      "  9.06573791e+18]\n",
      " [1.00000000e+00 3.90000000e+01 1.52100000e+03 5.93190000e+04\n",
      "  2.31344100e+06 9.02241990e+07 3.51874376e+09 1.37231007e+11\n",
      "  5.35200926e+12 2.08728361e+14 8.14040609e+15 3.17475837e+17\n",
      "  1.23815577e+19]\n",
      " [1.00000000e+00 4.10000000e+01 1.68100000e+03 6.89210000e+04\n",
      "  2.82576100e+06 1.15856201e+08 4.75010424e+09 1.94754274e+11\n",
      "  7.98492523e+12 3.27381934e+14 1.34226593e+16 5.50329032e+17\n",
      "  2.25634903e+19]\n",
      " [1.00000000e+00 4.30000000e+01 1.84900000e+03 7.95070000e+04\n",
      "  3.41880100e+06 1.47008443e+08 6.32136305e+09 2.71818611e+11\n",
      "  1.16882003e+13 5.02592612e+14 2.16114823e+16 9.29293739e+17\n",
      "  3.99596308e+19]\n",
      " [1.00000000e+00 4.50000000e+01 2.02500000e+03 9.11250000e+04\n",
      "  4.10062500e+06 1.84528125e+08 8.30376562e+09 3.73669453e+11\n",
      "  1.68151254e+13 7.56680643e+14 3.40506289e+16 1.53227830e+18\n",
      "  6.89525236e+19]\n",
      " [1.00000000e+00 5.80000000e+01 3.36400000e+03 1.95112000e+05\n",
      "  1.13164960e+07 6.56356768e+08 3.80686925e+10 2.20798417e+12\n",
      "  1.28063082e+14 7.42765874e+15 4.30804207e+17 2.49866440e+19\n",
      "  1.44922535e+21]]\n"
     ]
    }
   ],
   "source": [
    "from sklearn.preprocessing import PolynomialFeatures\n",
    "polynomial_features= PolynomialFeatures(degree=12)\n",
    "x_poly = polynomial_features.fit_transform(x2)\n",
    "print(x_poly)"
   ]
  },
  {
   "cell_type": "code",
   "execution_count": 52,
   "metadata": {},
   "outputs": [
    {
     "data": {
      "text/plain": [
       "LinearRegression(copy_X=True, fit_intercept=True, n_jobs=None, normalize=False)"
      ]
     },
     "execution_count": 52,
     "metadata": {},
     "output_type": "execute_result"
    }
   ],
   "source": [
    "lr.fit(x_poly,y)"
   ]
  },
  {
   "cell_type": "code",
   "execution_count": 53,
   "metadata": {},
   "outputs": [
    {
     "data": {
      "text/plain": [
       "array([3.04252387e+04, 6.65819072e+04, 2.16239465e+05, 6.89493675e+05,\n",
       "       1.93448882e+06, 4.80021221e+06, 1.07611657e+07, 2.22139891e+07,\n",
       "       4.28561191e+07, 7.81565718e+07, 1.35928945e+08, 2.27016732e+08,\n",
       "       3.66101051e+08, 5.72640878e+08, 8.71955879e+08, 1.88706940e+09,\n",
       "       2.69475432e+09, 3.78231239e+09, 7.11921464e+09, 1.27156803e+10,\n",
       "       1.67061750e+10, 1.67061750e+10, 3.57318433e+10, 5.68593323e+10,\n",
       "       7.09361592e+10, 8.79004667e+10, 1.32463213e+11, 1.61206255e+11,\n",
       "       2.35015801e+11, 2.81684714e+11, 3.99246262e+11, 5.56580947e+11,\n",
       "       7.64323997e+11, 4.49344000e+12])"
      ]
     },
     "execution_count": 53,
     "metadata": {},
     "output_type": "execute_result"
    }
   ],
   "source": [
    "y_poly_pred=lr.predict(x_poly)\n",
    "y_poly_pred"
   ]
  },
  {
   "cell_type": "code",
   "execution_count": 54,
   "metadata": {},
   "outputs": [
    {
     "name": "stdout",
     "output_type": "stream",
     "text": [
      "98403.34328435085\n",
      "0.9999999999999835\n"
     ]
    }
   ],
   "source": [
    "rmse = np.sqrt(mean_squared_error(y,y_poly_pred))\n",
    "print(rmse)\n",
    "print(r2_score(y,y_poly_pred))"
   ]
  },
  {
   "cell_type": "code",
   "execution_count": 56,
   "metadata": {},
   "outputs": [
    {
     "data": {
      "text/html": [
       "<div>\n",
       "<style scoped>\n",
       "    .dataframe tbody tr th:only-of-type {\n",
       "        vertical-align: middle;\n",
       "    }\n",
       "\n",
       "    .dataframe tbody tr th {\n",
       "        vertical-align: top;\n",
       "    }\n",
       "\n",
       "    .dataframe thead th {\n",
       "        text-align: right;\n",
       "    }\n",
       "</style>\n",
       "<table border=\"1\" class=\"dataframe\">\n",
       "  <thead>\n",
       "    <tr style=\"text-align: right;\">\n",
       "      <th></th>\n",
       "      <th>Actual</th>\n",
       "      <th>Predicted at 12</th>\n",
       "    </tr>\n",
       "  </thead>\n",
       "  <tbody>\n",
       "    <tr>\n",
       "      <th>0</th>\n",
       "      <td>6572.0</td>\n",
       "      <td>3.042524e+04</td>\n",
       "    </tr>\n",
       "    <tr>\n",
       "      <th>1</th>\n",
       "      <td>43700.0</td>\n",
       "      <td>6.658191e+04</td>\n",
       "    </tr>\n",
       "    <tr>\n",
       "      <th>2</th>\n",
       "      <td>195320.0</td>\n",
       "      <td>2.162395e+05</td>\n",
       "    </tr>\n",
       "    <tr>\n",
       "      <th>3</th>\n",
       "      <td>671852.0</td>\n",
       "      <td>6.894937e+05</td>\n",
       "    </tr>\n",
       "    <tr>\n",
       "      <th>4</th>\n",
       "      <td>1921604.0</td>\n",
       "      <td>1.934489e+06</td>\n",
       "    </tr>\n",
       "  </tbody>\n",
       "</table>\n",
       "</div>"
      ],
      "text/plain": [
       "      Actual  Predicted at 12\n",
       "0     6572.0     3.042524e+04\n",
       "1    43700.0     6.658191e+04\n",
       "2   195320.0     2.162395e+05\n",
       "3   671852.0     6.894937e+05\n",
       "4  1921604.0     1.934489e+06"
      ]
     },
     "execution_count": 56,
     "metadata": {},
     "output_type": "execute_result"
    }
   ],
   "source": [
    "df=pd.DataFrame({'Actual':y,'Predicted at 12':y_poly_pred})\n",
    "df.head()"
   ]
  },
  {
   "cell_type": "code",
   "execution_count": 57,
   "metadata": {},
   "outputs": [
    {
     "data": {
      "text/plain": [
       "[<matplotlib.lines.Line2D at 0x2279bc273c8>]"
      ]
     },
     "execution_count": 57,
     "metadata": {},
     "output_type": "execute_result"
    },
    {
     "data": {
      "image/png": "[encoded data removed]",
      "text/plain": [
       "<Figure size 432x288 with 1 Axes>"
      ]
     },
     "metadata": {
      "needs_background": "light"
     },
     "output_type": "display_data"
    }
   ],
   "source": [
    "plt.plot(x2,y_poly_pred)"
   ]
  },
  {
   "cell_type": "markdown",
   "metadata": {},
   "source": [
    "# polynomial regression at degree 6"
   ]
  },
  {
   "cell_type": "code",
   "execution_count": 65,
   "metadata": {},
   "outputs": [
    {
     "name": "stdout",
     "output_type": "stream",
     "text": [
      "[[1.00000000e+00 3.00000000e+00 9.00000000e+00 2.70000000e+01\n",
      "  8.10000000e+01 2.43000000e+02 7.29000000e+02]\n",
      " [1.00000000e+00 4.00000000e+00 1.60000000e+01 6.40000000e+01\n",
      "  2.56000000e+02 1.02400000e+03 4.09600000e+03]\n",
      " [1.00000000e+00 5.00000000e+00 2.50000000e+01 1.25000000e+02\n",
      "  6.25000000e+02 3.12500000e+03 1.56250000e+04]\n",
      " [1.00000000e+00 6.00000000e+00 3.60000000e+01 2.16000000e+02\n",
      "  1.29600000e+03 7.77600000e+03 4.66560000e+04]\n",
      " [1.00000000e+00 7.00000000e+00 4.90000000e+01 3.43000000e+02\n",
      "  2.40100000e+03 1.68070000e+04 1.17649000e+05]\n",
      " [1.00000000e+00 8.00000000e+00 6.40000000e+01 5.12000000e+02\n",
      "  4.09600000e+03 3.27680000e+04 2.62144000e+05]\n",
      " [1.00000000e+00 9.00000000e+00 8.10000000e+01 7.29000000e+02\n",
      "  6.56100000e+03 5.90490000e+04 5.31441000e+05]\n",
      " [1.00000000e+00 1.00000000e+01 1.00000000e+02 1.00000000e+03\n",
      "  1.00000000e+04 1.00000000e+05 1.00000000e+06]\n",
      " [1.00000000e+00 1.10000000e+01 1.21000000e+02 1.33100000e+03\n",
      "  1.46410000e+04 1.61051000e+05 1.77156100e+06]\n",
      " [1.00000000e+00 1.20000000e+01 1.44000000e+02 1.72800000e+03\n",
      "  2.07360000e+04 2.48832000e+05 2.98598400e+06]\n",
      " [1.00000000e+00 1.30000000e+01 1.69000000e+02 2.19700000e+03\n",
      "  2.85610000e+04 3.71293000e+05 4.82680900e+06]\n",
      " [1.00000000e+00 1.40000000e+01 1.96000000e+02 2.74400000e+03\n",
      "  3.84160000e+04 5.37824000e+05 7.52953600e+06]\n",
      " [1.00000000e+00 1.50000000e+01 2.25000000e+02 3.37500000e+03\n",
      "  5.06250000e+04 7.59375000e+05 1.13906250e+07]\n",
      " [1.00000000e+00 1.60000000e+01 2.56000000e+02 4.09600000e+03\n",
      "  6.55360000e+04 1.04857600e+06 1.67772160e+07]\n",
      " [1.00000000e+00 1.70000000e+01 2.89000000e+02 4.91300000e+03\n",
      "  8.35210000e+04 1.41985700e+06 2.41375690e+07]\n",
      " [1.00000000e+00 1.90000000e+01 3.61000000e+02 6.85900000e+03\n",
      "  1.30321000e+05 2.47609900e+06 4.70458810e+07]\n",
      " [1.00000000e+00 2.00000000e+01 4.00000000e+02 8.00000000e+03\n",
      "  1.60000000e+05 3.20000000e+06 6.40000000e+07]\n",
      " [1.00000000e+00 2.10000000e+01 4.41000000e+02 9.26100000e+03\n",
      "  1.94481000e+05 4.08410100e+06 8.57661210e+07]\n",
      " [1.00000000e+00 2.30000000e+01 5.29000000e+02 1.21670000e+04\n",
      "  2.79841000e+05 6.43634300e+06 1.48035889e+08]\n",
      " [1.00000000e+00 2.50000000e+01 6.25000000e+02 1.56250000e+04\n",
      "  3.90625000e+05 9.76562500e+06 2.44140625e+08]\n",
      " [1.00000000e+00 2.60000000e+01 6.76000000e+02 1.75760000e+04\n",
      "  4.56976000e+05 1.18813760e+07 3.08915776e+08]\n",
      " [1.00000000e+00 2.60000000e+01 6.76000000e+02 1.75760000e+04\n",
      "  4.56976000e+05 1.18813760e+07 3.08915776e+08]\n",
      " [1.00000000e+00 2.90000000e+01 8.41000000e+02 2.43890000e+04\n",
      "  7.07281000e+05 2.05111490e+07 5.94823321e+08]\n",
      " [1.00000000e+00 3.10000000e+01 9.61000000e+02 2.97910000e+04\n",
      "  9.23521000e+05 2.86291510e+07 8.87503681e+08]\n",
      " [1.00000000e+00 3.20000000e+01 1.02400000e+03 3.27680000e+04\n",
      "  1.04857600e+06 3.35544320e+07 1.07374182e+09]\n",
      " [1.00000000e+00 3.30000000e+01 1.08900000e+03 3.59370000e+04\n",
      "  1.18592100e+06 3.91353930e+07 1.29146797e+09]\n",
      " [1.00000000e+00 3.50000000e+01 1.22500000e+03 4.28750000e+04\n",
      "  1.50062500e+06 5.25218750e+07 1.83826562e+09]\n",
      " [1.00000000e+00 3.60000000e+01 1.29600000e+03 4.66560000e+04\n",
      "  1.67961600e+06 6.04661760e+07 2.17678234e+09]\n",
      " [1.00000000e+00 3.80000000e+01 1.44400000e+03 5.48720000e+04\n",
      "  2.08513600e+06 7.92351680e+07 3.01093638e+09]\n",
      " [1.00000000e+00 3.90000000e+01 1.52100000e+03 5.93190000e+04\n",
      "  2.31344100e+06 9.02241990e+07 3.51874376e+09]\n",
      " [1.00000000e+00 4.10000000e+01 1.68100000e+03 6.89210000e+04\n",
      "  2.82576100e+06 1.15856201e+08 4.75010424e+09]\n",
      " [1.00000000e+00 4.30000000e+01 1.84900000e+03 7.95070000e+04\n",
      "  3.41880100e+06 1.47008443e+08 6.32136305e+09]\n",
      " [1.00000000e+00 4.50000000e+01 2.02500000e+03 9.11250000e+04\n",
      "  4.10062500e+06 1.84528125e+08 8.30376562e+09]\n",
      " [1.00000000e+00 5.80000000e+01 3.36400000e+03 1.95112000e+05\n",
      "  1.13164960e+07 6.56356768e+08 3.80686925e+10]]\n"
     ]
    }
   ],
   "source": [
    "from sklearn.preprocessing import PolynomialFeatures\n",
    "polynomial_features= PolynomialFeatures(degree=6)\n",
    "x_poly = polynomial_features.fit_transform(x2)\n",
    "print(x_poly)"
   ]
  },
  {
   "cell_type": "code",
   "execution_count": 66,
   "metadata": {},
   "outputs": [
    {
     "data": {
      "text/plain": [
       "LinearRegression(copy_X=True, fit_intercept=True, n_jobs=None, normalize=False)"
      ]
     },
     "execution_count": 66,
     "metadata": {},
     "output_type": "execute_result"
    }
   ],
   "source": [
    "lr.fit(x_poly,y)"
   ]
  },
  {
   "cell_type": "code",
   "execution_count": 67,
   "metadata": {},
   "outputs": [
    {
     "data": {
      "text/plain": [
       "array([ 2.06847242e+08, -4.05363524e+07, -1.42046491e+08, -1.51412140e+08,\n",
       "       -1.08780032e+08, -4.27378162e+07,  2.79423844e+07,  9.28400253e+07,\n",
       "        1.48701790e+08,  1.98536843e+08,  2.50991687e+08,  3.20004616e+08,\n",
       "        4.24739779e+08,  5.89800838e+08,  8.45724235e+08,  1.78688448e+09,\n",
       "        2.57121191e+09,  3.64752655e+09,  7.00042288e+09,  1.26568068e+10,\n",
       "        1.66875526e+10,  1.66875526e+10,  3.58325026e+10,  5.70020583e+10,\n",
       "        7.10801770e+10,  8.80308393e+10,  1.32523608e+11,  1.61214984e+11,\n",
       "        2.34910910e+11,  2.81531471e+11,  3.99056070e+11,  5.56497861e+11,\n",
       "        7.64564173e+11,  4.49343251e+12])"
      ]
     },
     "execution_count": 67,
     "metadata": {},
     "output_type": "execute_result"
    }
   ],
   "source": [
    "y_poly_pred=lr.predict(x_poly)\n",
    "y_poly_pred"
   ]
  },
  {
   "cell_type": "code",
   "execution_count": 68,
   "metadata": {},
   "outputs": [
    {
     "name": "stdout",
     "output_type": "stream",
     "text": [
      "112268963.4659793\n",
      "0.9999999784175451\n"
     ]
    }
   ],
   "source": [
    "rmse = np.sqrt(mean_squared_error(y,y_poly_pred))\n",
    "print(rmse)\n",
    "print(r2_score(y,y_poly_pred))"
   ]
  },
  {
   "cell_type": "code",
   "execution_count": 69,
   "metadata": {},
   "outputs": [
    {
     "data": {
      "text/html": [
       "<div>\n",
       "<style scoped>\n",
       "    .dataframe tbody tr th:only-of-type {\n",
       "        vertical-align: middle;\n",
       "    }\n",
       "\n",
       "    .dataframe tbody tr th {\n",
       "        vertical-align: top;\n",
       "    }\n",
       "\n",
       "    .dataframe thead th {\n",
       "        text-align: right;\n",
       "    }\n",
       "</style>\n",
       "<table border=\"1\" class=\"dataframe\">\n",
       "  <thead>\n",
       "    <tr style=\"text-align: right;\">\n",
       "      <th></th>\n",
       "      <th>Actual</th>\n",
       "      <th>Predicted at 12</th>\n",
       "    </tr>\n",
       "  </thead>\n",
       "  <tbody>\n",
       "    <tr>\n",
       "      <th>0</th>\n",
       "      <td>6572.0</td>\n",
       "      <td>2.068472e+08</td>\n",
       "    </tr>\n",
       "    <tr>\n",
       "      <th>1</th>\n",
       "      <td>43700.0</td>\n",
       "      <td>-4.053635e+07</td>\n",
       "    </tr>\n",
       "    <tr>\n",
       "      <th>2</th>\n",
       "      <td>195320.0</td>\n",
       "      <td>-1.420465e+08</td>\n",
       "    </tr>\n",
       "    <tr>\n",
       "      <th>3</th>\n",
       "      <td>671852.0</td>\n",
       "      <td>-1.514121e+08</td>\n",
       "    </tr>\n",
       "    <tr>\n",
       "      <th>4</th>\n",
       "      <td>1921604.0</td>\n",
       "      <td>-1.087800e+08</td>\n",
       "    </tr>\n",
       "  </tbody>\n",
       "</table>\n",
       "</div>"
      ],
      "text/plain": [
       "      Actual  Predicted at 12\n",
       "0     6572.0     2.068472e+08\n",
       "1    43700.0    -4.053635e+07\n",
       "2   195320.0    -1.420465e+08\n",
       "3   671852.0    -1.514121e+08\n",
       "4  1921604.0    -1.087800e+08"
      ]
     },
     "execution_count": 69,
     "metadata": {},
     "output_type": "execute_result"
    }
   ],
   "source": [
    "df=pd.DataFrame({'Actual':y,'Predicted at 12':y_poly_pred})\n",
    "df.head()"
   ]
  },
  {
   "cell_type": "code",
   "execution_count": 70,
   "metadata": {},
   "outputs": [
    {
     "data": {
      "text/plain": [
       "[<matplotlib.lines.Line2D at 0x2279bcec2e8>]"
      ]
     },
     "execution_count": 70,
     "metadata": {},
     "output_type": "execute_result"
    },
    {
     "data": {
      "image/png": "[encoded data removed]",
      "text/plain": [
       "<Figure size 432x288 with 1 Axes>"
      ]
     },
     "metadata": {
      "needs_background": "light"
     },
     "output_type": "display_data"
    }
   ],
   "source": [
    "plt.plot(x2,y_poly_pred)"
   ]
  },
  {
   "cell_type": "code",
   "execution_count": null,
   "metadata": {},
   "outputs": [],
   "source": []
  }
 ],
 "metadata": {
  "kernelspec": {
   "display_name": "Python 3",
   "language": "python",
   "name": "python3"
  },
  "language_info": {
   "codemirror_mode": {
    "name": "ipython",
    "version": 3
   },
   "file_extension": ".py",
   "mimetype": "text/x-python",
   "name": "python",
   "nbconvert_exporter": "python",
   "pygments_lexer": "ipython3",
   "version": "3.7.3"
  }
 },
 "nbformat": 4,
 "nbformat_minor": 2
}
