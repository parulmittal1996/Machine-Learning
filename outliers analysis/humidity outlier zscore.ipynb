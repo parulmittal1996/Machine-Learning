{
 "cells": [
  {
   "cell_type": "code",
   "execution_count": 1,
   "metadata": {},
   "outputs": [
    {
     "data": {
      "text/html": [
       "<div>\n",
       "<style scoped>\n",
       "    .dataframe tbody tr th:only-of-type {\n",
       "        vertical-align: middle;\n",
       "    }\n",
       "\n",
       "    .dataframe tbody tr th {\n",
       "        vertical-align: top;\n",
       "    }\n",
       "\n",
       "    .dataframe thead th {\n",
       "        text-align: right;\n",
       "    }\n",
       "</style>\n",
       "<table border=\"1\" class=\"dataframe\">\n",
       "  <thead>\n",
       "    <tr style=\"text-align: right;\">\n",
       "      <th></th>\n",
       "      <th>sensor_id</th>\n",
       "      <th>lat</th>\n",
       "      <th>lon</th>\n",
       "      <th>pressure</th>\n",
       "      <th>temperature</th>\n",
       "      <th>humidity</th>\n",
       "    </tr>\n",
       "  </thead>\n",
       "  <tbody>\n",
       "    <tr>\n",
       "      <th>0</th>\n",
       "      <td>2266</td>\n",
       "      <td>42.738</td>\n",
       "      <td>23.272</td>\n",
       "      <td>95270.27</td>\n",
       "      <td>23.46</td>\n",
       "      <td>62.48</td>\n",
       "    </tr>\n",
       "    <tr>\n",
       "      <th>1</th>\n",
       "      <td>2292</td>\n",
       "      <td>42.663</td>\n",
       "      <td>23.273</td>\n",
       "      <td>94355.83</td>\n",
       "      <td>23.06</td>\n",
       "      <td>59.46</td>\n",
       "    </tr>\n",
       "    <tr>\n",
       "      <th>2</th>\n",
       "      <td>3096</td>\n",
       "      <td>42.700</td>\n",
       "      <td>23.360</td>\n",
       "      <td>95155.81</td>\n",
       "      <td>26.53</td>\n",
       "      <td>44.38</td>\n",
       "    </tr>\n",
       "    <tr>\n",
       "      <th>3</th>\n",
       "      <td>3428</td>\n",
       "      <td>42.624</td>\n",
       "      <td>23.406</td>\n",
       "      <td>94679.57</td>\n",
       "      <td>28.34</td>\n",
       "      <td>38.28</td>\n",
       "    </tr>\n",
       "    <tr>\n",
       "      <th>4</th>\n",
       "      <td>3472</td>\n",
       "      <td>42.669</td>\n",
       "      <td>23.318</td>\n",
       "      <td>94327.88</td>\n",
       "      <td>26.31</td>\n",
       "      <td>46.37</td>\n",
       "    </tr>\n",
       "  </tbody>\n",
       "</table>\n",
       "</div>"
      ],
      "text/plain": [
       "   sensor_id     lat     lon  pressure  temperature  humidity\n",
       "0       2266  42.738  23.272  95270.27        23.46     62.48\n",
       "1       2292  42.663  23.273  94355.83        23.06     59.46\n",
       "2       3096  42.700  23.360  95155.81        26.53     44.38\n",
       "3       3428  42.624  23.406  94679.57        28.34     38.28\n",
       "4       3472  42.669  23.318  94327.88        26.31     46.37"
      ]
     },
     "execution_count": 1,
     "metadata": {},
     "output_type": "execute_result"
    }
   ],
   "source": [
    "import numpy as np\n",
    "import pandas as pd\n",
    "import seaborn as sns\n",
    "import matplotlib.pyplot as plt\n",
    "data = pd.read_csv(\"humidity.csv\")\n",
    "data.head()"
   ]
  },
  {
   "cell_type": "code",
   "execution_count": 2,
   "metadata": {},
   "outputs": [
    {
     "data": {
      "text/plain": [
       "(701548, 6)"
      ]
     },
     "execution_count": 2,
     "metadata": {},
     "output_type": "execute_result"
    }
   ],
   "source": [
    "data.shape"
   ]
  },
  {
   "cell_type": "code",
   "execution_count": 3,
   "metadata": {},
   "outputs": [
    {
     "data": {
      "text/plain": [
       "sensor_id      0\n",
       "lat            0\n",
       "lon            0\n",
       "pressure       0\n",
       "temperature    0\n",
       "humidity       0\n",
       "dtype: int64"
      ]
     },
     "execution_count": 3,
     "metadata": {},
     "output_type": "execute_result"
    }
   ],
   "source": [
    "data.isnull().sum()"
   ]
  },
  {
   "cell_type": "code",
   "execution_count": 4,
   "metadata": {},
   "outputs": [],
   "source": [
    "data.drop([\"sensor_id\"], axis = 1, inplace = True)"
   ]
  },
  {
   "cell_type": "code",
   "execution_count": 5,
   "metadata": {},
   "outputs": [
    {
     "data": {
      "text/html": [
       "<div>\n",
       "<style scoped>\n",
       "    .dataframe tbody tr th:only-of-type {\n",
       "        vertical-align: middle;\n",
       "    }\n",
       "\n",
       "    .dataframe tbody tr th {\n",
       "        vertical-align: top;\n",
       "    }\n",
       "\n",
       "    .dataframe thead th {\n",
       "        text-align: right;\n",
       "    }\n",
       "</style>\n",
       "<table border=\"1\" class=\"dataframe\">\n",
       "  <thead>\n",
       "    <tr style=\"text-align: right;\">\n",
       "      <th></th>\n",
       "      <th>lat</th>\n",
       "      <th>lon</th>\n",
       "      <th>pressure</th>\n",
       "      <th>temperature</th>\n",
       "      <th>humidity</th>\n",
       "    </tr>\n",
       "  </thead>\n",
       "  <tbody>\n",
       "    <tr>\n",
       "      <th>0</th>\n",
       "      <td>42.738</td>\n",
       "      <td>23.272</td>\n",
       "      <td>95270.27</td>\n",
       "      <td>23.46</td>\n",
       "      <td>62.48</td>\n",
       "    </tr>\n",
       "    <tr>\n",
       "      <th>1</th>\n",
       "      <td>42.663</td>\n",
       "      <td>23.273</td>\n",
       "      <td>94355.83</td>\n",
       "      <td>23.06</td>\n",
       "      <td>59.46</td>\n",
       "    </tr>\n",
       "    <tr>\n",
       "      <th>2</th>\n",
       "      <td>42.700</td>\n",
       "      <td>23.360</td>\n",
       "      <td>95155.81</td>\n",
       "      <td>26.53</td>\n",
       "      <td>44.38</td>\n",
       "    </tr>\n",
       "    <tr>\n",
       "      <th>3</th>\n",
       "      <td>42.624</td>\n",
       "      <td>23.406</td>\n",
       "      <td>94679.57</td>\n",
       "      <td>28.34</td>\n",
       "      <td>38.28</td>\n",
       "    </tr>\n",
       "    <tr>\n",
       "      <th>4</th>\n",
       "      <td>42.669</td>\n",
       "      <td>23.318</td>\n",
       "      <td>94327.88</td>\n",
       "      <td>26.31</td>\n",
       "      <td>46.37</td>\n",
       "    </tr>\n",
       "  </tbody>\n",
       "</table>\n",
       "</div>"
      ],
      "text/plain": [
       "      lat     lon  pressure  temperature  humidity\n",
       "0  42.738  23.272  95270.27        23.46     62.48\n",
       "1  42.663  23.273  94355.83        23.06     59.46\n",
       "2  42.700  23.360  95155.81        26.53     44.38\n",
       "3  42.624  23.406  94679.57        28.34     38.28\n",
       "4  42.669  23.318  94327.88        26.31     46.37"
      ]
     },
     "execution_count": 5,
     "metadata": {},
     "output_type": "execute_result"
    }
   ],
   "source": [
    "data.head()"
   ]
  },
  {
   "cell_type": "code",
   "execution_count": 6,
   "metadata": {},
   "outputs": [
    {
     "data": {
      "text/plain": [
       "<matplotlib.axes._subplots.AxesSubplot at 0x1fe45c65630>"
      ]
     },
     "execution_count": 6,
     "metadata": {},
     "output_type": "execute_result"
    },
    {
     "data": {
      "image/png": "[encoded data removed]",
      "text/plain": [
       "<Figure size 432x288 with 2 Axes>"
      ]
     },
     "metadata": {
      "needs_background": "light"
     },
     "output_type": "display_data"
    }
   ],
   "source": [
    "cm = data.corr().round(2)\n",
    "sns.heatmap(data = cm,annot = True)"
   ]
  },
  {
   "cell_type": "code",
   "execution_count": 7,
   "metadata": {},
   "outputs": [
    {
     "data": {
      "text/plain": [
       "'\"def f1(data):\\n    \\n    for i in range(len(data.columns)):\\n        x=data1.iloc[:,i]\\n        l1=[]\\n        p1,p2=np.percentile(x,[25,75])\\n        l=p1-1.5*(p2-p1)\\n        u=p2+1.5*(p2-p1)\\n        for j in x:\\n            if(j>=u) or (j<=l):\\n                l1.append(j)\\n        for j in l1:\\n            data=data[data[data.columns[i]]!=j]\\n        return data'"
      ]
     },
     "execution_count": 7,
     "metadata": {},
     "output_type": "execute_result"
    }
   ],
   "source": [
    "\"\"\"\"def outlier(data):\n",
    "    \n",
    "    for i in range(len(data.columns)):\n",
    "        x=data1.iloc[:,i]\n",
    "        l1=[]\n",
    "        p1,p2=np.percentile(x,[25,75])\n",
    "        l=p1-1.5*(p2-p1)\n",
    "        u=p2+1.5*(p2-p1)\n",
    "        for j in x:\n",
    "            if(j>=u) or (j<=l):\n",
    "                l1.append(j)\n",
    "        for j in l1:\n",
    "            data=data[data[data.columns[i]]!=j]\n",
    "        return data\"\"\""
   ]
  },
  {
   "cell_type": "code",
   "execution_count": 8,
   "metadata": {},
   "outputs": [],
   "source": [
    "def outlier(data):\n",
    "    a = data.columns\n",
    "    for i in range(len(a)):\n",
    "        d=data[a[i]]\n",
    "        outlier1=[]\n",
    "        data_mean = np.mean(d)\n",
    "        data_std = np.std(d)\n",
    "        threshold = 3\n",
    "        for j in d:\n",
    "            zscore = (j - data_mean)/data_std\n",
    "        \n",
    "            if(np.abs(zscore)> threshold):\n",
    "                outlier1.append(j)\n",
    "        for m in outlier1:\n",
    "            data = data[data[data.columns[i]] !=m]\n",
    "    return data"
   ]
  },
  {
   "cell_type": "code",
   "execution_count": 9,
   "metadata": {},
   "outputs": [],
   "source": [
    "a = outlier(data)"
   ]
  },
  {
   "cell_type": "code",
   "execution_count": 10,
   "metadata": {},
   "outputs": [
    {
     "data": {
      "text/html": [
       "<div>\n",
       "<style scoped>\n",
       "    .dataframe tbody tr th:only-of-type {\n",
       "        vertical-align: middle;\n",
       "    }\n",
       "\n",
       "    .dataframe tbody tr th {\n",
       "        vertical-align: top;\n",
       "    }\n",
       "\n",
       "    .dataframe thead th {\n",
       "        text-align: right;\n",
       "    }\n",
       "</style>\n",
       "<table border=\"1\" class=\"dataframe\">\n",
       "  <thead>\n",
       "    <tr style=\"text-align: right;\">\n",
       "      <th></th>\n",
       "      <th>lat</th>\n",
       "      <th>lon</th>\n",
       "      <th>pressure</th>\n",
       "      <th>temperature</th>\n",
       "      <th>humidity</th>\n",
       "    </tr>\n",
       "  </thead>\n",
       "  <tbody>\n",
       "    <tr>\n",
       "      <th>0</th>\n",
       "      <td>42.738</td>\n",
       "      <td>23.272</td>\n",
       "      <td>95270.27</td>\n",
       "      <td>23.46</td>\n",
       "      <td>62.48</td>\n",
       "    </tr>\n",
       "    <tr>\n",
       "      <th>1</th>\n",
       "      <td>42.663</td>\n",
       "      <td>23.273</td>\n",
       "      <td>94355.83</td>\n",
       "      <td>23.06</td>\n",
       "      <td>59.46</td>\n",
       "    </tr>\n",
       "    <tr>\n",
       "      <th>2</th>\n",
       "      <td>42.700</td>\n",
       "      <td>23.360</td>\n",
       "      <td>95155.81</td>\n",
       "      <td>26.53</td>\n",
       "      <td>44.38</td>\n",
       "    </tr>\n",
       "    <tr>\n",
       "      <th>3</th>\n",
       "      <td>42.624</td>\n",
       "      <td>23.406</td>\n",
       "      <td>94679.57</td>\n",
       "      <td>28.34</td>\n",
       "      <td>38.28</td>\n",
       "    </tr>\n",
       "    <tr>\n",
       "      <th>4</th>\n",
       "      <td>42.669</td>\n",
       "      <td>23.318</td>\n",
       "      <td>94327.88</td>\n",
       "      <td>26.31</td>\n",
       "      <td>46.37</td>\n",
       "    </tr>\n",
       "    <tr>\n",
       "      <th>5</th>\n",
       "      <td>42.709</td>\n",
       "      <td>23.398</td>\n",
       "      <td>95314.52</td>\n",
       "      <td>22.66</td>\n",
       "      <td>56.55</td>\n",
       "    </tr>\n",
       "    <tr>\n",
       "      <th>6</th>\n",
       "      <td>42.640</td>\n",
       "      <td>23.310</td>\n",
       "      <td>93616.77</td>\n",
       "      <td>23.87</td>\n",
       "      <td>50.76</td>\n",
       "    </tr>\n",
       "    <tr>\n",
       "      <th>7</th>\n",
       "      <td>42.683</td>\n",
       "      <td>23.335</td>\n",
       "      <td>94962.39</td>\n",
       "      <td>24.92</td>\n",
       "      <td>55.53</td>\n",
       "    </tr>\n",
       "    <tr>\n",
       "      <th>8</th>\n",
       "      <td>42.693</td>\n",
       "      <td>23.333</td>\n",
       "      <td>94982.91</td>\n",
       "      <td>26.29</td>\n",
       "      <td>45.70</td>\n",
       "    </tr>\n",
       "    <tr>\n",
       "      <th>9</th>\n",
       "      <td>42.738</td>\n",
       "      <td>23.293</td>\n",
       "      <td>95099.81</td>\n",
       "      <td>24.62</td>\n",
       "      <td>57.97</td>\n",
       "    </tr>\n",
       "    <tr>\n",
       "      <th>10</th>\n",
       "      <td>42.704</td>\n",
       "      <td>23.354</td>\n",
       "      <td>95069.55</td>\n",
       "      <td>26.26</td>\n",
       "      <td>44.46</td>\n",
       "    </tr>\n",
       "    <tr>\n",
       "      <th>11</th>\n",
       "      <td>42.678</td>\n",
       "      <td>23.254</td>\n",
       "      <td>94447.61</td>\n",
       "      <td>25.27</td>\n",
       "      <td>58.19</td>\n",
       "    </tr>\n",
       "    <tr>\n",
       "      <th>12</th>\n",
       "      <td>42.693</td>\n",
       "      <td>23.359</td>\n",
       "      <td>94944.70</td>\n",
       "      <td>26.57</td>\n",
       "      <td>45.01</td>\n",
       "    </tr>\n",
       "    <tr>\n",
       "      <th>13</th>\n",
       "      <td>42.666</td>\n",
       "      <td>23.284</td>\n",
       "      <td>94537.78</td>\n",
       "      <td>24.31</td>\n",
       "      <td>0.00</td>\n",
       "    </tr>\n",
       "    <tr>\n",
       "      <th>14</th>\n",
       "      <td>42.657</td>\n",
       "      <td>23.349</td>\n",
       "      <td>94491.45</td>\n",
       "      <td>24.01</td>\n",
       "      <td>51.41</td>\n",
       "    </tr>\n",
       "    <tr>\n",
       "      <th>15</th>\n",
       "      <td>42.690</td>\n",
       "      <td>23.324</td>\n",
       "      <td>94932.50</td>\n",
       "      <td>25.95</td>\n",
       "      <td>46.26</td>\n",
       "    </tr>\n",
       "    <tr>\n",
       "      <th>16</th>\n",
       "      <td>42.680</td>\n",
       "      <td>23.293</td>\n",
       "      <td>94621.91</td>\n",
       "      <td>26.70</td>\n",
       "      <td>49.18</td>\n",
       "    </tr>\n",
       "    <tr>\n",
       "      <th>17</th>\n",
       "      <td>42.685</td>\n",
       "      <td>23.301</td>\n",
       "      <td>94683.96</td>\n",
       "      <td>25.92</td>\n",
       "      <td>50.87</td>\n",
       "    </tr>\n",
       "    <tr>\n",
       "      <th>18</th>\n",
       "      <td>42.660</td>\n",
       "      <td>23.319</td>\n",
       "      <td>94426.63</td>\n",
       "      <td>24.23</td>\n",
       "      <td>56.28</td>\n",
       "    </tr>\n",
       "    <tr>\n",
       "      <th>19</th>\n",
       "      <td>42.651</td>\n",
       "      <td>23.335</td>\n",
       "      <td>94441.33</td>\n",
       "      <td>24.99</td>\n",
       "      <td>49.53</td>\n",
       "    </tr>\n",
       "    <tr>\n",
       "      <th>20</th>\n",
       "      <td>42.700</td>\n",
       "      <td>23.332</td>\n",
       "      <td>95210.20</td>\n",
       "      <td>27.80</td>\n",
       "      <td>42.03</td>\n",
       "    </tr>\n",
       "    <tr>\n",
       "      <th>21</th>\n",
       "      <td>42.665</td>\n",
       "      <td>23.392</td>\n",
       "      <td>95039.95</td>\n",
       "      <td>25.99</td>\n",
       "      <td>43.24</td>\n",
       "    </tr>\n",
       "    <tr>\n",
       "      <th>22</th>\n",
       "      <td>42.686</td>\n",
       "      <td>23.351</td>\n",
       "      <td>94946.73</td>\n",
       "      <td>25.64</td>\n",
       "      <td>46.25</td>\n",
       "    </tr>\n",
       "    <tr>\n",
       "      <th>23</th>\n",
       "      <td>42.664</td>\n",
       "      <td>23.373</td>\n",
       "      <td>94773.52</td>\n",
       "      <td>26.79</td>\n",
       "      <td>42.78</td>\n",
       "    </tr>\n",
       "    <tr>\n",
       "      <th>24</th>\n",
       "      <td>42.710</td>\n",
       "      <td>23.419</td>\n",
       "      <td>95330.52</td>\n",
       "      <td>24.79</td>\n",
       "      <td>52.60</td>\n",
       "    </tr>\n",
       "    <tr>\n",
       "      <th>25</th>\n",
       "      <td>42.645</td>\n",
       "      <td>23.265</td>\n",
       "      <td>92616.37</td>\n",
       "      <td>24.12</td>\n",
       "      <td>45.73</td>\n",
       "    </tr>\n",
       "    <tr>\n",
       "      <th>26</th>\n",
       "      <td>42.692</td>\n",
       "      <td>23.332</td>\n",
       "      <td>95067.16</td>\n",
       "      <td>27.68</td>\n",
       "      <td>45.60</td>\n",
       "    </tr>\n",
       "    <tr>\n",
       "      <th>27</th>\n",
       "      <td>42.671</td>\n",
       "      <td>23.310</td>\n",
       "      <td>94748.38</td>\n",
       "      <td>24.99</td>\n",
       "      <td>58.61</td>\n",
       "    </tr>\n",
       "    <tr>\n",
       "      <th>28</th>\n",
       "      <td>42.677</td>\n",
       "      <td>23.311</td>\n",
       "      <td>94827.42</td>\n",
       "      <td>24.60</td>\n",
       "      <td>58.12</td>\n",
       "    </tr>\n",
       "    <tr>\n",
       "      <th>29</th>\n",
       "      <td>42.685</td>\n",
       "      <td>23.356</td>\n",
       "      <td>94903.91</td>\n",
       "      <td>27.97</td>\n",
       "      <td>39.41</td>\n",
       "    </tr>\n",
       "    <tr>\n",
       "      <th>...</th>\n",
       "      <td>...</td>\n",
       "      <td>...</td>\n",
       "      <td>...</td>\n",
       "      <td>...</td>\n",
       "      <td>...</td>\n",
       "    </tr>\n",
       "    <tr>\n",
       "      <th>701518</th>\n",
       "      <td>42.678</td>\n",
       "      <td>23.254</td>\n",
       "      <td>95139.34</td>\n",
       "      <td>21.81</td>\n",
       "      <td>61.45</td>\n",
       "    </tr>\n",
       "    <tr>\n",
       "      <th>701519</th>\n",
       "      <td>42.666</td>\n",
       "      <td>23.284</td>\n",
       "      <td>95060.19</td>\n",
       "      <td>22.45</td>\n",
       "      <td>54.53</td>\n",
       "    </tr>\n",
       "    <tr>\n",
       "      <th>701520</th>\n",
       "      <td>42.622</td>\n",
       "      <td>23.366</td>\n",
       "      <td>94648.48</td>\n",
       "      <td>20.77</td>\n",
       "      <td>57.74</td>\n",
       "    </tr>\n",
       "    <tr>\n",
       "      <th>701521</th>\n",
       "      <td>42.629</td>\n",
       "      <td>23.301</td>\n",
       "      <td>92868.15</td>\n",
       "      <td>20.35</td>\n",
       "      <td>60.28</td>\n",
       "    </tr>\n",
       "    <tr>\n",
       "      <th>701522</th>\n",
       "      <td>42.664</td>\n",
       "      <td>23.373</td>\n",
       "      <td>95564.37</td>\n",
       "      <td>21.51</td>\n",
       "      <td>61.19</td>\n",
       "    </tr>\n",
       "    <tr>\n",
       "      <th>701523</th>\n",
       "      <td>42.686</td>\n",
       "      <td>23.400</td>\n",
       "      <td>95919.37</td>\n",
       "      <td>20.26</td>\n",
       "      <td>61.14</td>\n",
       "    </tr>\n",
       "    <tr>\n",
       "      <th>701524</th>\n",
       "      <td>42.675</td>\n",
       "      <td>23.240</td>\n",
       "      <td>94400.86</td>\n",
       "      <td>22.19</td>\n",
       "      <td>53.10</td>\n",
       "    </tr>\n",
       "    <tr>\n",
       "      <th>701525</th>\n",
       "      <td>42.671</td>\n",
       "      <td>23.310</td>\n",
       "      <td>95475.76</td>\n",
       "      <td>24.85</td>\n",
       "      <td>46.71</td>\n",
       "    </tr>\n",
       "    <tr>\n",
       "      <th>701526</th>\n",
       "      <td>42.708</td>\n",
       "      <td>23.308</td>\n",
       "      <td>95756.34</td>\n",
       "      <td>24.09</td>\n",
       "      <td>48.02</td>\n",
       "    </tr>\n",
       "    <tr>\n",
       "      <th>701527</th>\n",
       "      <td>42.645</td>\n",
       "      <td>23.265</td>\n",
       "      <td>93281.27</td>\n",
       "      <td>18.70</td>\n",
       "      <td>67.08</td>\n",
       "    </tr>\n",
       "    <tr>\n",
       "      <th>701528</th>\n",
       "      <td>42.700</td>\n",
       "      <td>23.332</td>\n",
       "      <td>95966.58</td>\n",
       "      <td>23.71</td>\n",
       "      <td>47.99</td>\n",
       "    </tr>\n",
       "    <tr>\n",
       "      <th>701529</th>\n",
       "      <td>42.691</td>\n",
       "      <td>23.324</td>\n",
       "      <td>95642.71</td>\n",
       "      <td>21.70</td>\n",
       "      <td>55.34</td>\n",
       "    </tr>\n",
       "    <tr>\n",
       "      <th>701530</th>\n",
       "      <td>42.692</td>\n",
       "      <td>23.332</td>\n",
       "      <td>95803.17</td>\n",
       "      <td>24.35</td>\n",
       "      <td>50.34</td>\n",
       "    </tr>\n",
       "    <tr>\n",
       "      <th>701531</th>\n",
       "      <td>42.665</td>\n",
       "      <td>23.278</td>\n",
       "      <td>95109.95</td>\n",
       "      <td>23.17</td>\n",
       "      <td>52.37</td>\n",
       "    </tr>\n",
       "    <tr>\n",
       "      <th>701532</th>\n",
       "      <td>42.694</td>\n",
       "      <td>23.320</td>\n",
       "      <td>95776.61</td>\n",
       "      <td>23.57</td>\n",
       "      <td>49.50</td>\n",
       "    </tr>\n",
       "    <tr>\n",
       "      <th>701533</th>\n",
       "      <td>42.689</td>\n",
       "      <td>23.307</td>\n",
       "      <td>95510.19</td>\n",
       "      <td>22.50</td>\n",
       "      <td>54.58</td>\n",
       "    </tr>\n",
       "    <tr>\n",
       "      <th>701534</th>\n",
       "      <td>42.738</td>\n",
       "      <td>23.272</td>\n",
       "      <td>95997.38</td>\n",
       "      <td>21.69</td>\n",
       "      <td>57.89</td>\n",
       "    </tr>\n",
       "    <tr>\n",
       "      <th>701535</th>\n",
       "      <td>42.660</td>\n",
       "      <td>23.319</td>\n",
       "      <td>95174.85</td>\n",
       "      <td>20.56</td>\n",
       "      <td>58.89</td>\n",
       "    </tr>\n",
       "    <tr>\n",
       "      <th>701536</th>\n",
       "      <td>42.698</td>\n",
       "      <td>23.291</td>\n",
       "      <td>95792.91</td>\n",
       "      <td>22.36</td>\n",
       "      <td>52.24</td>\n",
       "    </tr>\n",
       "    <tr>\n",
       "      <th>701537</th>\n",
       "      <td>42.704</td>\n",
       "      <td>23.354</td>\n",
       "      <td>95852.39</td>\n",
       "      <td>20.80</td>\n",
       "      <td>56.58</td>\n",
       "    </tr>\n",
       "    <tr>\n",
       "      <th>701538</th>\n",
       "      <td>42.710</td>\n",
       "      <td>23.419</td>\n",
       "      <td>96092.94</td>\n",
       "      <td>21.76</td>\n",
       "      <td>57.09</td>\n",
       "    </tr>\n",
       "    <tr>\n",
       "      <th>701539</th>\n",
       "      <td>42.680</td>\n",
       "      <td>23.293</td>\n",
       "      <td>95353.27</td>\n",
       "      <td>21.99</td>\n",
       "      <td>53.75</td>\n",
       "    </tr>\n",
       "    <tr>\n",
       "      <th>701540</th>\n",
       "      <td>42.665</td>\n",
       "      <td>23.293</td>\n",
       "      <td>95032.90</td>\n",
       "      <td>24.41</td>\n",
       "      <td>47.88</td>\n",
       "    </tr>\n",
       "    <tr>\n",
       "      <th>701541</th>\n",
       "      <td>42.625</td>\n",
       "      <td>23.321</td>\n",
       "      <td>93564.17</td>\n",
       "      <td>24.21</td>\n",
       "      <td>49.71</td>\n",
       "    </tr>\n",
       "    <tr>\n",
       "      <th>701542</th>\n",
       "      <td>42.706</td>\n",
       "      <td>23.380</td>\n",
       "      <td>96031.84</td>\n",
       "      <td>21.69</td>\n",
       "      <td>54.50</td>\n",
       "    </tr>\n",
       "    <tr>\n",
       "      <th>701543</th>\n",
       "      <td>42.671</td>\n",
       "      <td>23.364</td>\n",
       "      <td>95562.08</td>\n",
       "      <td>21.99</td>\n",
       "      <td>52.28</td>\n",
       "    </tr>\n",
       "    <tr>\n",
       "      <th>701544</th>\n",
       "      <td>42.702</td>\n",
       "      <td>23.371</td>\n",
       "      <td>96070.06</td>\n",
       "      <td>21.41</td>\n",
       "      <td>56.84</td>\n",
       "    </tr>\n",
       "    <tr>\n",
       "      <th>701545</th>\n",
       "      <td>42.671</td>\n",
       "      <td>23.325</td>\n",
       "      <td>95230.42</td>\n",
       "      <td>22.53</td>\n",
       "      <td>51.72</td>\n",
       "    </tr>\n",
       "    <tr>\n",
       "      <th>701546</th>\n",
       "      <td>42.685</td>\n",
       "      <td>23.356</td>\n",
       "      <td>95653.14</td>\n",
       "      <td>23.01</td>\n",
       "      <td>49.78</td>\n",
       "    </tr>\n",
       "    <tr>\n",
       "      <th>701547</th>\n",
       "      <td>42.685</td>\n",
       "      <td>23.301</td>\n",
       "      <td>95418.48</td>\n",
       "      <td>22.57</td>\n",
       "      <td>51.44</td>\n",
       "    </tr>\n",
       "  </tbody>\n",
       "</table>\n",
       "<p>692574 rows × 5 columns</p>\n",
       "</div>"
      ],
      "text/plain": [
       "           lat     lon  pressure  temperature  humidity\n",
       "0       42.738  23.272  95270.27        23.46     62.48\n",
       "1       42.663  23.273  94355.83        23.06     59.46\n",
       "2       42.700  23.360  95155.81        26.53     44.38\n",
       "3       42.624  23.406  94679.57        28.34     38.28\n",
       "4       42.669  23.318  94327.88        26.31     46.37\n",
       "5       42.709  23.398  95314.52        22.66     56.55\n",
       "6       42.640  23.310  93616.77        23.87     50.76\n",
       "7       42.683  23.335  94962.39        24.92     55.53\n",
       "8       42.693  23.333  94982.91        26.29     45.70\n",
       "9       42.738  23.293  95099.81        24.62     57.97\n",
       "10      42.704  23.354  95069.55        26.26     44.46\n",
       "11      42.678  23.254  94447.61        25.27     58.19\n",
       "12      42.693  23.359  94944.70        26.57     45.01\n",
       "13      42.666  23.284  94537.78        24.31      0.00\n",
       "14      42.657  23.349  94491.45        24.01     51.41\n",
       "15      42.690  23.324  94932.50        25.95     46.26\n",
       "16      42.680  23.293  94621.91        26.70     49.18\n",
       "17      42.685  23.301  94683.96        25.92     50.87\n",
       "18      42.660  23.319  94426.63        24.23     56.28\n",
       "19      42.651  23.335  94441.33        24.99     49.53\n",
       "20      42.700  23.332  95210.20        27.80     42.03\n",
       "21      42.665  23.392  95039.95        25.99     43.24\n",
       "22      42.686  23.351  94946.73        25.64     46.25\n",
       "23      42.664  23.373  94773.52        26.79     42.78\n",
       "24      42.710  23.419  95330.52        24.79     52.60\n",
       "25      42.645  23.265  92616.37        24.12     45.73\n",
       "26      42.692  23.332  95067.16        27.68     45.60\n",
       "27      42.671  23.310  94748.38        24.99     58.61\n",
       "28      42.677  23.311  94827.42        24.60     58.12\n",
       "29      42.685  23.356  94903.91        27.97     39.41\n",
       "...        ...     ...       ...          ...       ...\n",
       "701518  42.678  23.254  95139.34        21.81     61.45\n",
       "701519  42.666  23.284  95060.19        22.45     54.53\n",
       "701520  42.622  23.366  94648.48        20.77     57.74\n",
       "701521  42.629  23.301  92868.15        20.35     60.28\n",
       "701522  42.664  23.373  95564.37        21.51     61.19\n",
       "701523  42.686  23.400  95919.37        20.26     61.14\n",
       "701524  42.675  23.240  94400.86        22.19     53.10\n",
       "701525  42.671  23.310  95475.76        24.85     46.71\n",
       "701526  42.708  23.308  95756.34        24.09     48.02\n",
       "701527  42.645  23.265  93281.27        18.70     67.08\n",
       "701528  42.700  23.332  95966.58        23.71     47.99\n",
       "701529  42.691  23.324  95642.71        21.70     55.34\n",
       "701530  42.692  23.332  95803.17        24.35     50.34\n",
       "701531  42.665  23.278  95109.95        23.17     52.37\n",
       "701532  42.694  23.320  95776.61        23.57     49.50\n",
       "701533  42.689  23.307  95510.19        22.50     54.58\n",
       "701534  42.738  23.272  95997.38        21.69     57.89\n",
       "701535  42.660  23.319  95174.85        20.56     58.89\n",
       "701536  42.698  23.291  95792.91        22.36     52.24\n",
       "701537  42.704  23.354  95852.39        20.80     56.58\n",
       "701538  42.710  23.419  96092.94        21.76     57.09\n",
       "701539  42.680  23.293  95353.27        21.99     53.75\n",
       "701540  42.665  23.293  95032.90        24.41     47.88\n",
       "701541  42.625  23.321  93564.17        24.21     49.71\n",
       "701542  42.706  23.380  96031.84        21.69     54.50\n",
       "701543  42.671  23.364  95562.08        21.99     52.28\n",
       "701544  42.702  23.371  96070.06        21.41     56.84\n",
       "701545  42.671  23.325  95230.42        22.53     51.72\n",
       "701546  42.685  23.356  95653.14        23.01     49.78\n",
       "701547  42.685  23.301  95418.48        22.57     51.44\n",
       "\n",
       "[692574 rows x 5 columns]"
      ]
     },
     "execution_count": 10,
     "metadata": {},
     "output_type": "execute_result"
    }
   ],
   "source": [
    "a"
   ]
  },
  {
   "cell_type": "code",
   "execution_count": 69,
   "metadata": {},
   "outputs": [],
   "source": [
    "a.to_csv(\"humidity(woutlier).csv\")"
   ]
  },
  {
   "cell_type": "code",
   "execution_count": 11,
   "metadata": {},
   "outputs": [],
   "source": [
    "y = a.iloc[:,-1]\n",
    "x = a.iloc[:,:-1]\n"
   ]
  },
  {
   "cell_type": "code",
   "execution_count": 12,
   "metadata": {},
   "outputs": [
    {
     "data": {
      "text/plain": [
       "(692574, 4)"
      ]
     },
     "execution_count": 12,
     "metadata": {},
     "output_type": "execute_result"
    }
   ],
   "source": [
    "x.shape"
   ]
  },
  {
   "cell_type": "code",
   "execution_count": 13,
   "metadata": {},
   "outputs": [
    {
     "data": {
      "text/plain": [
       "(692574,)"
      ]
     },
     "execution_count": 13,
     "metadata": {},
     "output_type": "execute_result"
    }
   ],
   "source": [
    "y.shape"
   ]
  },
  {
   "cell_type": "code",
   "execution_count": 14,
   "metadata": {},
   "outputs": [],
   "source": [
    "from sklearn.model_selection import train_test_split\n"
   ]
  },
  {
   "cell_type": "code",
   "execution_count": 15,
   "metadata": {},
   "outputs": [
    {
     "name": "stdout",
     "output_type": "stream",
     "text": [
      "(554059, 4)\n",
      "(138515, 4)\n",
      "(554059,)\n",
      "(138515,)\n"
     ]
    }
   ],
   "source": [
    "x_train,x_test,y_train,y_test = train_test_split(x,y,test_size = 0.20, random_state =0)\n",
    "print(x_train.shape)\n",
    "print(x_test.shape)\n",
    "print(y_train.shape)\n",
    "print(y_test.shape)"
   ]
  },
  {
   "cell_type": "code",
   "execution_count": 16,
   "metadata": {},
   "outputs": [],
   "source": [
    "from sklearn.linear_model import LinearRegression"
   ]
  },
  {
   "cell_type": "code",
   "execution_count": 17,
   "metadata": {},
   "outputs": [],
   "source": [
    "model =LinearRegression()"
   ]
  },
  {
   "cell_type": "code",
   "execution_count": 59,
   "metadata": {},
   "outputs": [
    {
     "data": {
      "text/plain": [
       "LinearRegression(copy_X=True, fit_intercept=True, n_jobs=None, normalize=False)"
      ]
     },
     "execution_count": 59,
     "metadata": {},
     "output_type": "execute_result"
    }
   ],
   "source": [
    "model.fit(x,y)"
   ]
  },
  {
   "cell_type": "code",
   "execution_count": 60,
   "metadata": {},
   "outputs": [],
   "source": [
    "y_pred = model.predict(x)"
   ]
  },
  {
   "cell_type": "code",
   "execution_count": 61,
   "metadata": {},
   "outputs": [
    {
     "data": {
      "text/plain": [
       "array([56.93597425, 50.41557246, 49.48592948, ..., 52.19209414,\n",
       "       53.2388213 , 51.70088913])"
      ]
     },
     "execution_count": 61,
     "metadata": {},
     "output_type": "execute_result"
    }
   ],
   "source": [
    "y_pred"
   ]
  },
  {
   "cell_type": "code",
   "execution_count": 62,
   "metadata": {},
   "outputs": [],
   "source": [
    "from sklearn.metrics import mean_squared_error, r2_score"
   ]
  },
  {
   "cell_type": "code",
   "execution_count": 63,
   "metadata": {},
   "outputs": [
    {
     "name": "stdout",
     "output_type": "stream",
     "text": [
      "The model performance of training set:\n",
      "RMSE is: 12.398694238211856\n",
      "r2_score: 0.632452035250234\n"
     ]
    }
   ],
   "source": [
    "rmse = np.sqrt(mean_squared_error(y, y_pred))\n",
    "r2score = r2_score(y, y_pred)\n",
    "print(\"The model performance of training set:\")\n",
    "print(\"RMSE is:\", rmse)\n",
    "print(\"r2_score:\", r2score)"
   ]
  },
  {
   "cell_type": "code",
   "execution_count": 23,
   "metadata": {},
   "outputs": [
    {
     "name": "stdout",
     "output_type": "stream",
     "text": [
      "Intercept:\n",
      " -8195.455740729034\n",
      "coefficients:\n",
      " [ 1.67460838e+02  7.16185599e+01 -5.35236558e-03 -2.61355913e+00]\n"
     ]
    }
   ],
   "source": [
    "print(\"Intercept:\\n\", model.intercept_)\n",
    "print(\"coefficients:\\n\", model.coef_)"
   ]
  },
  {
   "cell_type": "code",
   "execution_count": 24,
   "metadata": {},
   "outputs": [
    {
     "data": {
      "text/plain": [
       "(692574, 4)"
      ]
     },
     "execution_count": 24,
     "metadata": {},
     "output_type": "execute_result"
    }
   ],
   "source": [
    "x.shape"
   ]
  },
  {
   "cell_type": "markdown",
   "metadata": {},
   "source": [
    "# polynomial model"
   ]
  },
  {
   "cell_type": "code",
   "execution_count": 80,
   "metadata": {},
   "outputs": [
    {
     "name": "stdout",
     "output_type": "stream",
     "text": [
      "[[1.00000000e+00 4.27380000e+01 2.32720000e+01 ... 6.44992747e+16\n",
      "  1.58827406e+13 3.91107419e+09]\n",
      " [1.00000000e+00 4.26630000e+01 2.32730000e+01 ... 5.80542466e+16\n",
      "  1.41881103e+13 3.46748923e+09]\n",
      " [1.00000000e+00 4.27000000e+01 2.33600000e+01 ... 1.19002715e+17\n",
      "  3.31786576e+13 9.25040505e+09]\n",
      " ...\n",
      " [1.00000000e+00 4.26710000e+01 2.33250000e+01 ... 5.26450276e+16\n",
      "  1.24549747e+13 2.94664856e+09]\n",
      " [1.00000000e+00 4.26850000e+01 2.33560000e+01 ... 5.90176015e+16\n",
      "  1.41970772e+13 3.41520149e+09]\n",
      " [1.00000000e+00 4.26850000e+01 2.33010000e+01 ... 5.33240078e+16\n",
      "  1.26131003e+13 2.98346477e+09]]\n"
     ]
    }
   ],
   "source": [
    "from sklearn.preprocessing import PolynomialFeatures\n",
    "polynomial_features= PolynomialFeatures(degree=7)\n",
    "x_poly = polynomial_features.fit_transform(x)\n",
    "print(x_poly)"
   ]
  },
  {
   "cell_type": "code",
   "execution_count": 81,
   "metadata": {},
   "outputs": [
    {
     "name": "stdout",
     "output_type": "stream",
     "text": [
      "(554059, 330)\n",
      "(138515, 330)\n",
      "(554059,)\n",
      "(138515,)\n"
     ]
    }
   ],
   "source": [
    "x_train, x_test, y_train, y_test = train_test_split(x_poly, y, test_size = 0.20, random_state = 0)\n",
    "print(x_train.shape)\n",
    "print(x_test.shape)\n",
    "print(y_train.shape)\n",
    "print(y_test.shape)"
   ]
  },
  {
   "cell_type": "code",
   "execution_count": null,
   "metadata": {},
   "outputs": [],
   "source": [
    "model.fit(x_train,y_train)"
   ]
  },
  {
   "cell_type": "code",
   "execution_count": null,
   "metadata": {},
   "outputs": [],
   "source": [
    "y_pred=model.predict(x_test)\n",
    "y_pred"
   ]
  },
  {
   "cell_type": "code",
   "execution_count": null,
   "metadata": {},
   "outputs": [],
   "source": [
    "rmse = np.sqrt(mean_squared_error(y_test,y_pred))\n",
    "print(rmse)\n",
    "print(r2_score(y_test,y_pred))"
   ]
  },
  {
   "cell_type": "code",
   "execution_count": null,
   "metadata": {},
   "outputs": [],
   "source": []
  },
  {
   "cell_type": "code",
   "execution_count": null,
   "metadata": {},
   "outputs": [],
   "source": []
  },
  {
   "cell_type": "code",
   "execution_count": null,
   "metadata": {},
   "outputs": [],
   "source": []
  }
 ],
 "metadata": {
  "kernelspec": {
   "display_name": "Python 3",
   "language": "python",
   "name": "python3"
  },
  "language_info": {
   "codemirror_mode": {
    "name": "ipython",
    "version": 3
   },
   "file_extension": ".py",
   "mimetype": "text/x-python",
   "name": "python",
   "nbconvert_exporter": "python",
   "pygments_lexer": "ipython3",
   "version": "3.7.3"
  }
 },
 "nbformat": 4,
 "nbformat_minor": 2
}
